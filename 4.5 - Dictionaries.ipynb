{
 "cells": [
  {
   "cell_type": "code",
   "execution_count": null,
   "metadata": {},
   "outputs": [],
   "source": [
    "A dictionary is a collection which is unordered, changeable and indexed.\n",
    "\n",
    "In Python dictionaries are written with curly brackets, and they have keys and values.\n",
    "\n",
    "Dictionaries are indexed by keys, which can be any immutable type; strings\n",
    "and numbers can always be keys."
   ]
  },
  {
   "cell_type": "markdown",
   "metadata": {},
   "source": [
    "###### Create a Dictionalry"
   ]
  },
  {
   "cell_type": "code",
   "execution_count": 1,
   "metadata": {
    "collapsed": true
   },
   "outputs": [
    {
     "name": "stdout",
     "output_type": "stream",
     "text": [
      "Dictionary Values:-  {'A': 100, 'B': 200, 'C': 345.5, 'D': 'Python'}\n"
     ]
    }
   ],
   "source": [
    "D1={'A':100,'B':200,'C':345.5,'D':\"Python\"}\n",
    "\n",
    "print(\"Dictionary Values:- \", D1)"
   ]
  },
  {
   "cell_type": "code",
   "execution_count": 2,
   "metadata": {
    "collapsed": true
   },
   "outputs": [
    {
     "name": "stdout",
     "output_type": "stream",
     "text": [
      "Dictionary Values:-  {'Brand': 'Indigo', 'Modal': 'Galaxy', 'Year': 2010, 'Country': 'India'}\n"
     ]
    }
   ],
   "source": [
    "D2={'Brand':\"Indigo\",\n",
    "    'Modal':\"Galaxy\",\n",
    "    'Year':2010,\n",
    "    'Country':\"India\"}\n",
    "\n",
    "print(\"Dictionary Values:- \", D2)"
   ]
  },
  {
   "cell_type": "code",
   "execution_count": 4,
   "metadata": {
    "collapsed": true
   },
   "outputs": [
    {
     "name": "stdout",
     "output_type": "stream",
     "text": [
      "Days in a month:- {'January': 31, 'February': 28, 'March': 31, 'April': 30, 'May': 31, 'June': 30, 'July': 31, 'August': 31, 'September': 30, 'October': 31, 'November': 30, 'December': 31}\n"
     ]
    }
   ],
   "source": [
    "# dictionary of the days in the months of the year:\n",
    "    \n",
    "days = {'January':31, 'February':28, 'March':31, 'April':30,\n",
    "'May':31, 'June':30, 'July':31, 'August':31,\n",
    "'September':30, 'October':31, 'November':30, 'December':31}\n",
    "\n",
    "print(\"Days in a month:-\",days)"
   ]
  },
  {
   "cell_type": "code",
   "execution_count": 6,
   "metadata": {
    "collapsed": true
   },
   "outputs": [
    {
     "name": "stdout",
     "output_type": "stream",
     "text": [
      "Dictionary Values:-  {1001: 1001011, 1002: 'DS', 1003: 'AWS', 'Quantity': 22.4}\n",
      "\n",
      "Dictionary Values:-  {'10+2j': '1000g', '1Lt': '1000ml', '1Mt': '100cm', '1Km': '1000m'}\n"
     ]
    }
   ],
   "source": [
    "D3={1001:1001011,1002:\"DS\",1003:\"AWS\", \"Quantity\":22.4}\n",
    "\n",
    "print(\"Dictionary Values:- \", D3)\n",
    "\n",
    "print()\n",
    "\n",
    "D4={'10+2j':'1000g','1Lt':'1000ml','1Mt':\"100cm\", \"1Km\":'1000m'}\n",
    "\n",
    "print(\"Dictionary Values:- \", D4)"
   ]
  },
  {
   "cell_type": "code",
   "execution_count": 7,
   "metadata": {
    "collapsed": true
   },
   "outputs": [
    {
     "name": "stdout",
     "output_type": "stream",
     "text": [
      "Updated Dictionary items with new Values:-  {'A': 100, 'B': 200, 'C': 345.5, 'D': 'Java'}\n",
      "\n",
      "After Adding new item in Dictionary Values:-  {'A': 100, 'B': 200, 'C': 345.5, 'D': 'Java', 'E': 999}\n"
     ]
    }
   ],
   "source": [
    "D4={'A':100,'B':200,'C':345.5,'D':\"Python\"}\n",
    "\n",
    "D4['D']=\"Java\"\n",
    "\n",
    "print(\"Updated Dictionary items with new Values:- \", D4)\n",
    "\n",
    "print()\n",
    "\n",
    "D4['E']=999\n",
    "\n",
    "print(\"After Adding new item in Dictionary Values:- \", D4)"
   ]
  },
  {
   "cell_type": "markdown",
   "metadata": {},
   "source": [
    "###### Accessing Dictionary Items"
   ]
  },
  {
   "cell_type": "code",
   "execution_count": 22,
   "metadata": {
    "collapsed": true
   },
   "outputs": [
    {
     "name": "stdout",
     "output_type": "stream",
     "text": [
      "{'brand': 'Indigo', 'model': 'Galaxy', 'year': 2010}\n",
      "Galaxy\n",
      "Galaxy\n"
     ]
    }
   ],
   "source": [
    "# We can access the items of a dictionary by referring to its key name, inside square brackets:\n",
    "\n",
    "dict1 = {\n",
    "  \"brand\": \"Indigo\",\n",
    "  \"model\": \"Galaxy\",\n",
    "  \"year\": 2010\n",
    "}\n",
    "\n",
    "print(dict1)\n",
    "\n",
    "x = dict1[\"model\"]   # Get the value of the \"model\" key\n",
    "print(x)\n",
    "\n",
    "x = dict1.get(\"model\") # There is also a method called get() that will give you the same result:\n",
    "print(x)"
   ]
  },
  {
   "cell_type": "code",
   "execution_count": 8,
   "metadata": {
    "collapsed": true
   },
   "outputs": [
    {
     "name": "stdout",
     "output_type": "stream",
     "text": [
      "Access C in the Dictionary :-  345.5\n",
      "\n",
      "Access C in the Dictionary :-  200\n"
     ]
    }
   ],
   "source": [
    "D4={'A':100,'B':200,'C':345.5,'D':\"Python\"}\n",
    "\n",
    "D4['C']\n",
    "print(\"Access C in the Dictionary :- \", D4['C'])\n",
    "\n",
    "print()\n",
    "\n",
    "print(\"Access C in the Dictionary :- \", D4.get('B'))"
   ]
  },
  {
   "cell_type": "markdown",
   "metadata": {},
   "source": [
    "###### Change/Update Dictionary Values"
   ]
  },
  {
   "cell_type": "code",
   "execution_count": 9,
   "metadata": {
    "collapsed": true
   },
   "outputs": [
    {
     "name": "stdout",
     "output_type": "stream",
     "text": [
      "Updated Dictionary items with new Values:-  {'A': 100, 'B': 200, 'C': 345.5, 'D': 'Java'}\n"
     ]
    }
   ],
   "source": [
    "D4={'A':100,'B':200,'C':345.5,'D':\"Python\"}\n",
    "\n",
    "D4['D']=\"Java\"\n",
    "\n",
    "print(\"Updated Dictionary items with new Values:- \", D4)"
   ]
  },
  {
   "cell_type": "code",
   "execution_count": 24,
   "metadata": {
    "collapsed": true
   },
   "outputs": [
    {
     "name": "stdout",
     "output_type": "stream",
     "text": [
      "{'brand': 'Indigo', 'model': 'Galaxy', 'year': 2010}\n",
      "After Changing the year in dict1:-  {'brand': 'Indigo', 'model': 'Galaxy', 'year': 2018}\n"
     ]
    }
   ],
   "source": [
    "dict1 = {\n",
    "  \"brand\": \"Indigo\",\n",
    "  \"model\": \"Galaxy\",\n",
    "  \"year\": 2010\n",
    "}\n",
    "print(dict1)\n",
    "\n",
    "dict1[\"year\"]=2018\n",
    "\n",
    "print(\"After Changing the year in dict1:- \", dict1)"
   ]
  },
  {
   "cell_type": "markdown",
   "metadata": {},
   "source": [
    "###### Adding a New Value"
   ]
  },
  {
   "cell_type": "code",
   "execution_count": 10,
   "metadata": {},
   "outputs": [
    {
     "name": "stdout",
     "output_type": "stream",
     "text": [
      "After Adding new item in Dictionary Values:-  {'A': 100, 'B': 200, 'C': 345.5, 'D': 'AWS', 'E': 300}\n"
     ]
    }
   ],
   "source": [
    "D4={'A':100,'B':200,'C':345.5,'D':\"AWS\"}\n",
    "\n",
    "D4['E']=300\n",
    "\n",
    "print(\"After Adding new item in Dictionary Values:- \", D4)"
   ]
  },
  {
   "cell_type": "code",
   "execution_count": 11,
   "metadata": {
    "collapsed": true
   },
   "outputs": [
    {
     "name": "stdout",
     "output_type": "stream",
     "text": [
      "{'brand': 'Indigo', 'model': 'Galaxy', 'year': 2010}\n",
      "After Adding color in dict1:-  {'brand': 'Indigo', 'model': 'Galaxy', 'year': 2010, 'Color': 'Yellow'}\n"
     ]
    }
   ],
   "source": [
    "dict1 = {\n",
    "  \"brand\": \"Indigo\",\n",
    "  \"model\": \"Galaxy\",\n",
    "  \"year\": 2010\n",
    "}\n",
    "print(dict1)\n",
    "\n",
    "dict1[\"Color\"]=\"Yellow\"\n",
    "\n",
    "print(\"After Adding color in dict1:- \", dict1)"
   ]
  },
  {
   "cell_type": "code",
   "execution_count": 28,
   "metadata": {},
   "outputs": [
    {
     "name": "stdout",
     "output_type": "stream",
     "text": [
      "Length of the Dictionary:-  5\n"
     ]
    }
   ],
   "source": [
    "print(\"Length of the Dictionary:- \",len(D4))"
   ]
  },
  {
   "cell_type": "code",
   "execution_count": 12,
   "metadata": {},
   "outputs": [
    {
     "name": "stdout",
     "output_type": "stream",
     "text": [
      "Copy dict1 to dict2:-  {'brand': 'Indigo', 'model': 'Galaxy', 'year': 2010, 'Color': 'Yellow'}\n"
     ]
    }
   ],
   "source": [
    "dict2=dict1.copy()\n",
    "\n",
    "print(\"Copy dict1 to dict2:- \", dict2)"
   ]
  },
  {
   "cell_type": "markdown",
   "metadata": {},
   "source": [
    "###### Removing Items"
   ]
  },
  {
   "cell_type": "code",
   "execution_count": 7,
   "metadata": {
    "collapsed": true
   },
   "outputs": [
    {
     "name": "stdout",
     "output_type": "stream",
     "text": [
      "dictionary before pop:-  {'brand': 'Indigo', 'model': 'Galaxy', 'year': 2010, 'Color': 'green'}\n",
      "\n",
      "dictionary After pop:-  {'brand': 'Indigo', 'year': 2010, 'Color': 'green'}\n"
     ]
    }
   ],
   "source": [
    "# Removing Items:- There are several methods to remove items from a dictionary.\n",
    "\n",
    "# The pop() method removes the item with the specified key name:\n",
    "\n",
    "dict1 = {\n",
    "  \"brand\": \"Indigo\",\n",
    "  \"model\": \"Galaxy\",\n",
    "  \"year\": 2010,\n",
    "  \"Color\": \"green\"\n",
    "}\n",
    "\n",
    "print(\"dictionary before pop:- \", dict1)\n",
    "print()\n",
    "\n",
    "dict1.pop(\"model\")\n",
    "\n",
    "print(\"dictionary After pop:- \", dict1)"
   ]
  },
  {
   "cell_type": "code",
   "execution_count": 13,
   "metadata": {},
   "outputs": [
    {
     "name": "stdout",
     "output_type": "stream",
     "text": [
      "dictionary before pop:-  {'brand': 'Indigo', 'model': 'Galaxy', 'year': 2010, 'Color': 'green'}\n",
      "\n",
      "dictionary After pop:-  {'brand': 'Indigo', 'model': 'Galaxy', 'year': 2010}\n"
     ]
    }
   ],
   "source": [
    "# The popitem() method removes the last inserted item (in versions before 3.7, a random item is removed instead)\n",
    "\n",
    "dict1 = {\n",
    "  \"brand\": \"Indigo\",\n",
    "  \"model\": \"Galaxy\",\n",
    "  \"year\": 2010,\n",
    "  \"Color\": \"green\"\n",
    "}\n",
    "\n",
    "print(\"dictionary before pop:- \", dict1)\n",
    "print()\n",
    "\n",
    "dict1.popitem()\n",
    "\n",
    "print(\"dictionary After pop:- \", dict1)"
   ]
  },
  {
   "cell_type": "code",
   "execution_count": 14,
   "metadata": {},
   "outputs": [
    {
     "name": "stdout",
     "output_type": "stream",
     "text": [
      "dictionary before del:-  {'brand': 'Indigo', 'model': 'Galaxy', 'year': 2010, 'Color': 'green'}\n",
      "\n",
      "dictionary After del:-  {'brand': 'Indigo', 'model': 'Galaxy', 'Color': 'green'}\n"
     ]
    }
   ],
   "source": [
    "# The del keyword removes the item with the specified key name:\n",
    "\n",
    "dict1 = {\n",
    "  \"brand\": \"Indigo\",\n",
    "  \"model\": \"Galaxy\",\n",
    "  \"year\": 2010,\n",
    "  \"Color\": \"green\"\n",
    "}\n",
    "\n",
    "print(\"dictionary before del:- \", dict1)\n",
    "print()\n",
    "\n",
    "del dict1[\"year\"]\n",
    "\n",
    "print(\"dictionary After del:- \", dict1)"
   ]
  },
  {
   "cell_type": "code",
   "execution_count": 10,
   "metadata": {
    "collapsed": true
   },
   "outputs": [
    {
     "ename": "NameError",
     "evalue": "name 'dict1' is not defined",
     "output_type": "error",
     "traceback": [
      "\u001b[1;31m---------------------------------------------------------------------------\u001b[0m",
      "\u001b[1;31mNameError\u001b[0m                                 Traceback (most recent call last)",
      "\u001b[1;32m<ipython-input-10-fc555e3e0cf3>\u001b[0m in \u001b[0;36m<module>\u001b[1;34m\u001b[0m\n\u001b[0;32m      1\u001b[0m \u001b[1;31m# The del keyword can also delete the dictionary completely:\u001b[0m\u001b[1;33m\u001b[0m\u001b[1;33m\u001b[0m\u001b[1;33m\u001b[0m\u001b[0m\n\u001b[0;32m      2\u001b[0m \u001b[1;32mdel\u001b[0m \u001b[0mdict1\u001b[0m\u001b[1;33m\u001b[0m\u001b[1;33m\u001b[0m\u001b[0m\n\u001b[1;32m----> 3\u001b[1;33m \u001b[0mprint\u001b[0m\u001b[1;33m(\u001b[0m\u001b[1;34m\"After deleted the dict1:- \"\u001b[0m\u001b[1;33m,\u001b[0m \u001b[0mdict1\u001b[0m\u001b[1;33m)\u001b[0m\u001b[1;33m\u001b[0m\u001b[1;33m\u001b[0m\u001b[0m\n\u001b[0m",
      "\u001b[1;31mNameError\u001b[0m: name 'dict1' is not defined"
     ]
    }
   ],
   "source": [
    "# The del keyword can also delete the dictionary completely:\n",
    "\n",
    "del dict1\n",
    "\n",
    "print(\"After deleted the dict1:- \", dict1)"
   ]
  },
  {
   "cell_type": "code",
   "execution_count": 11,
   "metadata": {},
   "outputs": [
    {
     "name": "stdout",
     "output_type": "stream",
     "text": [
      "dictionary before clear:-  {'brand': 'Indigo', 'model': 'Galaxy', 'year': 2010, 'Color': 'green'}\n",
      "\n",
      "dictionary After clear:-  {}\n"
     ]
    }
   ],
   "source": [
    "# The clear() method empties the dictionary:\n",
    "\n",
    "dict1 = {\n",
    "  \"brand\": \"Indigo\",\n",
    "  \"model\": \"Galaxy\",\n",
    "  \"year\": 2010,\n",
    "  \"Color\": \"green\"\n",
    "}\n",
    "\n",
    "print(\"dictionary before clear:- \", dict1)\n",
    "print()\n",
    "\n",
    "dict1.clear()\n",
    "\n",
    "print(\"dictionary After clear:- \", dict1)"
   ]
  },
  {
   "cell_type": "markdown",
   "metadata": {},
   "source": [
    "###### Nested Dictionaries"
   ]
  },
  {
   "cell_type": "code",
   "execution_count": null,
   "metadata": {},
   "outputs": [],
   "source": [
    "Like how a Dictionary is a collection of key-value pairs,\n",
    "Python nested dictionaries are an unordered collection of one or two dictionaries. "
   ]
  },
  {
   "cell_type": "code",
   "execution_count": null,
   "metadata": {},
   "outputs": [],
   "source": [
    "# Syntax of Python Nested Dictionaries\n",
    "\n",
    "nested_dict = { 'dict1': {'key1': 'value1'}, 'dict2': {'key2': 'value2'}}\n",
    "\n",
    "Here, nested_dict is a nested dictionary which has two dictionaries with keys dict1 and dict2. \n",
    "The values of those two keys (dict1, dict2) are in-turn dictionaries."
   ]
  },
  {
   "cell_type": "markdown",
   "metadata": {},
   "source": [
    "###### Where can a Nested Dictionary be of Use?"
   ]
  },
  {
   "cell_type": "code",
   "execution_count": null,
   "metadata": {},
   "outputs": [],
   "source": [
    "Let us assume you want to store the details of an employee. \n",
    "The right data type of this is a Dictionary. You can do it this way,"
   ]
  },
  {
   "cell_type": "code",
   "execution_count": null,
   "metadata": {},
   "outputs": [],
   "source": [
    "D = {'name':'John','age': 37,'job':'Software Developer','city':'Bangalore','email':'john@gmail.com'}"
   ]
  },
  {
   "cell_type": "code",
   "execution_count": null,
   "metadata": {},
   "outputs": [],
   "source": [
    "That's simple. But what if you want to store the details of 100's of such employees? Well,\n",
    "this is where Python Nested Dictionaries comes into the picture. \n",
    "Let us now learn some basic operations of nested dictionaries to understand them better."
   ]
  },
  {
   "cell_type": "markdown",
   "metadata": {},
   "source": [
    "###### How to Create a Nested Dictionary in Python?"
   ]
  },
  {
   "cell_type": "code",
   "execution_count": null,
   "metadata": {},
   "outputs": [],
   "source": [
    "In Python, Nested dictionaries can be created by placing the comma-separated dictionaries \n",
    "enclosed within curly brackets. For instance,"
   ]
  },
  {
   "cell_type": "code",
   "execution_count": 2,
   "metadata": {},
   "outputs": [
    {
     "name": "stdout",
     "output_type": "stream",
     "text": [
      "{'dict1': {'Color': 'Red', 'Shape': 'Square'}, 'dict2': {'Color': 'Pink', 'Shape': 'Round'}}\n"
     ]
    }
   ],
   "source": [
    "#creating a nested dictionary\n",
    "\n",
    "nes_dict = {'dict1': {'Color': 'Red', 'Shape': 'Square'}, 'dict2': {'Color': 'Pink', 'Shape': 'Round'}}\n",
    "print (nes_dict)\n",
    "\n",
    "# Output:\n",
    "# {'dict2': {'Color': 'Pink', 'Shape': 'Round'}, 'dict1': {'Color': 'Red', 'Shape': 'Square'}}"
   ]
  },
  {
   "attachments": {
    "image.png": {
     "image/png": "[encoded data removed]"
    }
   },
   "cell_type": "markdown",
   "metadata": {},
   "source": [
    "![image.png](attachment:image.png)"
   ]
  },
  {
   "cell_type": "markdown",
   "metadata": {},
   "source": [
    "###### How to Add Key-value Pairs to a Nested Dictionary?"
   ]
  },
  {
   "cell_type": "code",
   "execution_count": null,
   "metadata": {},
   "outputs": [],
   "source": [
    "Value to a specific key in a nested dictionary can be added using its respective key. \n",
    "But, to do this, you first have to create an empty dictionary even before assigning values to respective keys. \n",
    "\n",
    "This can be done as shown below."
   ]
  },
  {
   "cell_type": "code",
   "execution_count": 3,
   "metadata": {},
   "outputs": [
    {
     "name": "stdout",
     "output_type": "stream",
     "text": [
      "{'dict1': {'Color': 'Red', 'Shape': 'Square'}, 'dict2': {'Color': 'Pink', 'Shape': 'Round'}, 'dict3': {'Color': 'Blue', 'Shape': 'Rectangle'}}\n"
     ]
    }
   ],
   "source": [
    "#adding a value to a nested dictionary\n",
    "\n",
    "nes_dict = {'dict1': {'Color': 'Red', 'Shape': 'Square'}, 'dict2': {'Color': 'Pink', 'Shape': 'Round'}}\n",
    "\n",
    "nes_dict['dict3'] = {}\n",
    "nes_dict['dict3']['Color'] = 'Blue'\n",
    "nes_dict['dict3']['Shape'] = 'Rectangle'\n",
    "\n",
    "print(nes_dict)\n",
    "\n",
    "# ﻿Output:\n",
    "# {'dict3': {'Color': 'Blue', 'Shape': 'Rectangle'}, \n",
    "#  'dict1': {'Color': 'Red', 'Shape': 'Square'}, \n",
    "#  'dict2': {'Color': 'Pink', 'Shape': 'Round'}}"
   ]
  },
  {
   "cell_type": "markdown",
   "metadata": {},
   "source": [
    "###### How to Add a Dictionary to a Nested Dictionary?"
   ]
  },
  {
   "cell_type": "code",
   "execution_count": null,
   "metadata": {},
   "outputs": [],
   "source": [
    "Another way to add a dictionary to an existing nested dictionary is shown below."
   ]
  },
  {
   "cell_type": "code",
   "execution_count": 4,
   "metadata": {},
   "outputs": [
    {
     "name": "stdout",
     "output_type": "stream",
     "text": [
      "{'dict1': {'Color': 'Red', 'Shape': 'Square'}, 'dict2': {'Color': 'Pink', 'Shape': 'Round'}, 'dict3': {'Color': 'Blue', 'Shape': 'Rectangle'}}\n"
     ]
    }
   ],
   "source": [
    "#adding a dictionary to nested dictionary\n",
    "nes_dict = {'dict1': {'Color': 'Red', 'Shape': 'Square'}, 'dict2': {'Color': 'Pink', 'Shape': 'Round'}}\n",
    "\n",
    "nes_dict['dict3'] = {'Color': 'Blue', 'Shape': 'Rectangle'}\n",
    "print(nes_dict)\n",
    "\n",
    "# Output:\n",
    "# {'dict2': {'Shape': 'Round', 'Color': 'Pink'}, \n",
    "#  'dict1': {'Shape': 'Square', 'Color': 'Red'}, \n",
    "#  'dict3': {'Shape': 'Rectangle', 'Color': 'Blue'}}"
   ]
  },
  {
   "cell_type": "markdown",
   "metadata": {},
   "source": [
    "###### How to Access Values of a Nested Dictionary?"
   ]
  },
  {
   "cell_type": "code",
   "execution_count": null,
   "metadata": {},
   "outputs": [],
   "source": [
    "Values of a nested dictionary can simply be accessed using their respective keys."
   ]
  },
  {
   "cell_type": "code",
   "execution_count": 5,
   "metadata": {},
   "outputs": [
    {
     "name": "stdout",
     "output_type": "stream",
     "text": [
      "Red\n",
      "Round\n"
     ]
    }
   ],
   "source": [
    "#accessing a value in nested dictionary\n",
    "\n",
    "nes_dict = {'dict1': {'Color': 'Red', 'Shape': 'Square'}, 'dict2': {'Color': 'Pink', 'Shape': 'Round'}}\n",
    "\n",
    "print(nes_dict['dict1']['Color'])\n",
    "print(nes_dict['dict2']['Shape'])\n",
    "\n",
    "# Output:\n",
    "# Red\n",
    "# Round"
   ]
  },
  {
   "cell_type": "markdown",
   "metadata": {},
   "source": [
    "###### How to Delete Elements from a Nested Dictionary?"
   ]
  },
  {
   "cell_type": "code",
   "execution_count": null,
   "metadata": {},
   "outputs": [],
   "source": [
    "The key-value pairs in Python nested dictionaries can be deleted using the del() method. \n",
    "This method can be used to delete either the entire dictionary or a particular key-value pair from a nested dictionary."
   ]
  },
  {
   "cell_type": "code",
   "execution_count": null,
   "metadata": {},
   "outputs": [],
   "source": [
    "#deleting the entire nested dictionary\n",
    "\n",
    "nes_dict = {'dict1': {'Color': 'Red', 'Shape': 'Square'}, 'dict2': {'Color': 'Pink', 'Shape': 'Round'}}\n",
    "\n",
    "del nes_dict['dict1']\n",
    "\n",
    "print(nes_dict)\n",
    "\n",
    "\n",
    "Output:{'dict2': {'Color': 'Pink', 'Shape': 'Round'}}\n",
    "\n",
    "\n",
    "#deleting the a key-value from nested dictionary\n",
    "\n",
    "nes_dict = {'dict1': {'Color': 'Red', 'Shape': 'Square'}, 'dict2': {'Color': 'Pink', 'Shape': 'Round'}}\n",
    "\n",
    "del nes_dict['dict1']\n",
    "del nes_dict['dict2']['Shape']\n",
    "\n",
    "print (nes_dict)\n",
    "\n",
    "\n",
    "# ﻿Output:{'dict2': {'Color': 'Pink'}}"
   ]
  },
  {
   "cell_type": "markdown",
   "metadata": {},
   "source": []
  }
 ],
 "metadata": {
  "kernelspec": {
   "display_name": "Python 3 (ipykernel)",
   "language": "python",
   "name": "python3"
  },
  "language_info": {
   "codemirror_mode": {
    "name": "ipython",
    "version": 3
   },
   "file_extension": ".py",
   "mimetype": "text/x-python",
   "name": "python",
   "nbconvert_exporter": "python",
   "pygments_lexer": "ipython3",
   "version": "3.11.2"
  }
 },
 "nbformat": 4,
 "nbformat_minor": 4
}
