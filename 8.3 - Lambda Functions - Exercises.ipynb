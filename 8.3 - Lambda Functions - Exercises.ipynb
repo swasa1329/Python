{
 "cells": [
  {
   "cell_type": "markdown",
   "id": "946c1286",
   "metadata": {},
   "source": [
    "### Lambda Functions - Exercise"
   ]
  },
  {
   "cell_type": "markdown",
   "id": "79dad92f",
   "metadata": {},
   "source": [
    "###### 1.  Write a python program to generate a lambda function that able to add a number of 20?"
   ]
  },
  {
   "cell_type": "markdown",
   "id": "b310df40",
   "metadata": {},
   "source": [
    "**Hint:-**\n",
    "    \n",
    "Input number: 10\n",
    "\n",
    "Expected Answer: After adding 10: 30"
   ]
  },
  {
   "cell_type": "code",
   "execution_count": null,
   "id": "74b5bb74",
   "metadata": {},
   "outputs": [],
   "source": [
    "input_number = lambda a : a + 20\n",
    "\n",
    "print(\"After adding 10:\", input_number(10))"
   ]
  },
  {
   "cell_type": "markdown",
   "id": "62aa54fe",
   "metadata": {},
   "source": [
    "###### 2. Write a python program to generate a lambda function that able to multiply two input number?"
   ]
  },
  {
   "cell_type": "markdown",
   "id": "18ea9aae",
   "metadata": {},
   "source": [
    "**Hint:-** \n",
    "\n",
    "Two numbers: 3.2, 7.6\n",
    "\n",
    "Expected Answer: Multiplication of both input number: 24.32"
   ]
  },
  {
   "cell_type": "code",
   "execution_count": null,
   "id": "54755e6b",
   "metadata": {},
   "outputs": [],
   "source": [
    "input_number = lambda a, b : a * b\n",
    "\n",
    "print(\"Multiplication of both input number:\",input_number(3.2, 7.6))"
   ]
  },
  {
   "cell_type": "markdown",
   "id": "6a419cf4",
   "metadata": {},
   "source": [
    "###### 3. Write a python program to generate a lambda function to separate the odd and even number from a list of numbers?"
   ]
  },
  {
   "cell_type": "markdown",
   "id": "6ea06958",
   "metadata": {},
   "source": [
    "**Hint:-** \n",
    "    \n",
    "list_a = [22, 56, 77, 99, 45, 36, 87, 93, 5, 78, 2, 66]\n",
    "\n",
    "Expected Answer:\n",
    "The initial list of integers: [22, 56, 77, 99, 45, 36, 87, 93, 5, 78, 2, 66]\n",
    "\n",
    "Even numbers from the said list: [22, 56, 36, 78, 2, 66]\n",
    "\n",
    "Odd numbers from the said list: [77, 99, 45, 87, 93, 5]"
   ]
  },
  {
   "cell_type": "code",
   "execution_count": 3,
   "id": "a2601359",
   "metadata": {},
   "outputs": [
    {
     "name": "stdout",
     "output_type": "stream",
     "text": [
      "The initial list of integers: [22, 56, 77, 99, 45, 36, 87, 93, 5, 78, 2, 66]\n",
      "\n",
      "Even numbers from the list: [22, 56, 36, 78, 2, 66]\n",
      "\n",
      "Odd numbers from the list: [77, 99, 45, 87, 93, 5]\n"
     ]
    }
   ],
   "source": [
    "list1 = [22, 56, 77, 99, 45, 36, 87, 93, 5, 78, 2, 66]\n",
    "\n",
    "print(\"The initial list of integers:\", list1)\n",
    " \n",
    "even = list(filter(lambda x: x%2 == 0, list1))\n",
    "\n",
    "print(\"\\nEven numbers from the list:\", even)\n",
    " \n",
    "odd = list(filter(lambda x: x%2 != 0, list1))\n",
    "\n",
    "print(\"\\nOdd numbers from the list:\", odd)"
   ]
  },
  {
   "cell_type": "markdown",
   "id": "7c41f79f",
   "metadata": {},
   "source": [
    "###### 4. Write a python program to generate a lambda function to get the power of two on a list of numbers?"
   ]
  },
  {
   "cell_type": "markdown",
   "id": "0022c898",
   "metadata": {},
   "source": [
    "**Hint:-**\n",
    "    \n",
    "lis= [22, 56, 77, 99, 45, 36, 87, 93, 5, 78, 2, 66]\n",
    "\n",
    "Expected Answer:\n",
    "    \n",
    "The initial list of numbers: [3, 22, 36, 45, 56, 77, 87, 93]<br>\n",
    "The power of two for all elements in list: [9, 484, 1296, 2025, 3136, 5929, 7569, 8649]"
   ]
  },
  {
   "cell_type": "code",
   "execution_count": 6,
   "id": "e20fe72d",
   "metadata": {},
   "outputs": [
    {
     "name": "stdout",
     "output_type": "stream",
     "text": [
      "The initial list of numbers: [3, 22, 36, 45, 56, 77, 87, 93]\n",
      "\n",
      "The power of two for all elements in list: [9, 484, 1296, 2025, 3136, 5929, 7569, 8649]\n"
     ]
    }
   ],
   "source": [
    "lis = [3, 22, 36, 45, 56, 77, 87, 93]\n",
    "\n",
    "print(\"The initial list of numbers:\", lis)\n",
    " \n",
    "pow = list(map(lambda x: x ** 2, lis))\n",
    "\n",
    "print(\"\\nThe power of two for all elements in list:\", pow)"
   ]
  },
  {
   "cell_type": "markdown",
   "id": "2fcd3b24",
   "metadata": {},
   "source": [
    "###### 5. Write a Python program to filter a given list to determine if the values in the list have a length of 6 using Lambda?"
   ]
  },
  {
   "cell_type": "code",
   "execution_count": 1,
   "id": "46111929",
   "metadata": {},
   "outputs": [
    {
     "name": "stdout",
     "output_type": "stream",
     "text": [
      "Monday\n",
      "Friday\n",
      "Sunday\n"
     ]
    }
   ],
   "source": [
    "# Create a list 'weekdays' containing the names of the days of the week\n",
    "\n",
    "weekdays = ['Monday', 'Tuesday', 'Wednesday', 'Thursday', 'Friday', 'Saturday', 'Sunday']\n",
    "\n",
    "# Use the 'filter()' function with a lambda function to filter days with a length of 6 characters\n",
    "# The lambda function checks the length of each day and keeps only the days with a length of 6\n",
    "# Empty strings ('') are filtered out to keep only days with a length of 6 characters\n",
    "\n",
    "days = filter(lambda day: day if len(day) == 6 else '', weekdays)\n",
    "\n",
    "# Iterate through the filtered days and print each day that has a length of 6 characters\n",
    "\n",
    "for d in days:\n",
    "    print(d)"
   ]
  },
  {
   "cell_type": "markdown",
   "id": "aee5e1a6",
   "metadata": {},
   "source": [
    "###### 6. Write a Python program to add two given lists using map and lambda?"
   ]
  },
  {
   "cell_type": "markdown",
   "id": "27d9c511",
   "metadata": {},
   "source": [
    "**Hint:-**\n",
    "    \n",
    "Original list:-\n",
    "    \n",
    "[1, 2, 3]<br>\n",
    "[4, 5, 6]\n",
    "\n",
    "Result: after adding two list:- [5, 7, 9]"
   ]
  },
  {
   "cell_type": "code",
   "execution_count": 5,
   "id": "a6e57b60",
   "metadata": {},
   "outputs": [
    {
     "name": "stdout",
     "output_type": "stream",
     "text": [
      "Original list:\n",
      "[1, 2, 3]\n",
      "[4, 5, 6]\n",
      "\n",
      "Result: after adding two lists\n",
      "[5, 7, 9]\n"
     ]
    }
   ],
   "source": [
    "# Create two lists 'nums1' and 'nums2' containing integers\n",
    "\n",
    "nums1 = [1, 2, 3]\n",
    "nums2 = [4, 5, 6]\n",
    "\n",
    "# Display a message indicating that the following output will show the original lists\n",
    "\n",
    "print(\"Original list:\")\n",
    "\n",
    "print(nums1)  # Print the contents of 'nums1'\n",
    "\n",
    "print(nums2)  # Print the contents of 'nums2'\n",
    "\n",
    "# Use the 'map()' function with a lambda function to add corresponding elements from 'nums1' and 'nums2'\n",
    "# Apply the lambda function to pairs of elements from 'nums1' and 'nums2' and generate a new 'result' iterable.\n",
    "\n",
    "result = map(lambda x, y: x + y, nums1, nums2)\n",
    "\n",
    "# Display the result after adding elements from both lists together using 'map()' and a lambda function\n",
    "\n",
    "print(\"\\nResult: after adding two lists\")\n",
    "\n",
    "print(list(result))  # Print the result of adding corresponding elements from 'nums1' and 'nums2'."
   ]
  },
  {
   "cell_type": "markdown",
   "id": "c4275276",
   "metadata": {},
   "source": [
    "###### 7. Write a Python program to find palindromes in a given list of strings using Lambda."
   ]
  },
  {
   "cell_type": "markdown",
   "id": "1328b86e",
   "metadata": {},
   "source": [
    "**Hint:-**\n",
    "    \n",
    "A palindromic number or numeral palindrome is a number that remains the same when its digits are reversed."
   ]
  },
  {
   "cell_type": "code",
   "execution_count": 10,
   "id": "48bf3df6",
   "metadata": {},
   "outputs": [
    {
     "name": "stdout",
     "output_type": "stream",
     "text": [
      "Orginal list of strings:- ['php', 'w3r', 'Python', 'abcd', 'Java', 'aaa']\n",
      "\n",
      "List of palindromes:- ['php', 'aaa']\n"
     ]
    }
   ],
   "source": [
    "# Create a list 'texts' containing strings\n",
    "\n",
    "texts = [\"php\", \"w3r\", \"Python\", \"abcd\", \"Java\", \"aaa\"]\n",
    "\n",
    "# Display a message indicating that the following output will show the original list of strings\n",
    "\n",
    "print(\"Orginal list of strings:-\",texts) # Print the contents of the 'texts' list\n",
    "\n",
    "# Use the 'filter()' function with a lambda function to filter palindromes from the list\n",
    "# Filter elements from 'texts' using the lambda function to keep strings that are palindromes\n",
    "# The lambda function checks if a string is equal to its reverse by joining its characters in reverse order\n",
    "\n",
    "result = list(filter(lambda x: (x == \"\".join(reversed(x))), texts))\n",
    "\n",
    "# Display the list of palindromes obtained from the original list of strings\n",
    "\n",
    "print(\"\\nList of palindromes:-\", result) # Print the filtered 'result' list "
   ]
  },
  {
   "cell_type": "code",
   "execution_count": null,
   "id": "23e8fafd",
   "metadata": {},
   "outputs": [],
   "source": []
  }
 ],
 "metadata": {
  "kernelspec": {
   "display_name": "Python 3 (ipykernel)",
   "language": "python",
   "name": "python3"
  },
  "language_info": {
   "codemirror_mode": {
    "name": "ipython",
    "version": 3
   },
   "file_extension": ".py",
   "mimetype": "text/x-python",
   "name": "python",
   "nbconvert_exporter": "python",
   "pygments_lexer": "ipython3",
   "version": "3.11.2"
  }
 },
 "nbformat": 4,
 "nbformat_minor": 5
}
