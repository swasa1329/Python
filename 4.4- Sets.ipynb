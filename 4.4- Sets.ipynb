{
 "cells": [
  {
   "cell_type": "markdown",
   "id": "5e7928f5",
   "metadata": {},
   "source": [
    "1. A set is a collection which is unordered and unindexed. \n",
    "\n",
    "2. In Python, sets are written with curly brackets. {}\n",
    "\n",
    "3. Set doesn't allow duplicate values"
   ]
  },
  {
   "cell_type": "code",
   "execution_count": 1,
   "id": "f87319f0",
   "metadata": {
    "collapsed": true
   },
   "outputs": [
    {
     "name": "stdout",
     "output_type": "stream",
     "text": [
      "{10, 20.5, 'Python'}\n"
     ]
    }
   ],
   "source": [
    "s1={10,20.50,\"Python\"}\n",
    "\n",
    "print(s1)\n",
    "\n",
    "s2 = {\"python\", \"Django\", \"DS\",\"ML\", \"AN\"}\n",
    "\n",
    "print(\"Printing the Set elements:-\", s2)"
   ]
  },
  {
   "cell_type": "markdown",
   "id": "a3390f35",
   "metadata": {},
   "source": [
    "###### Access Set Items"
   ]
  },
  {
   "cell_type": "code",
   "execution_count": 3,
   "id": "6d5e361c",
   "metadata": {
    "collapsed": true
   },
   "outputs": [
    {
     "name": "stdout",
     "output_type": "stream",
     "text": [
      "Elements in s1:-  {33.4, 'python', 22, 'AN', 'Django', 'ML', 'DS'}\n"
     ]
    },
    {
     "ename": "TypeError",
     "evalue": "'set' object is not subscriptable",
     "output_type": "error",
     "traceback": [
      "\u001b[1;31m---------------------------------------------------------------------------\u001b[0m",
      "\u001b[1;31mTypeError\u001b[0m                                 Traceback (most recent call last)",
      "Cell \u001b[1;32mIn[3], line 5\u001b[0m\n\u001b[0;32m      1\u001b[0m s1 \u001b[38;5;241m=\u001b[39m {\u001b[38;5;124m\"\u001b[39m\u001b[38;5;124mpython\u001b[39m\u001b[38;5;124m\"\u001b[39m, \u001b[38;5;124m\"\u001b[39m\u001b[38;5;124mDjango\u001b[39m\u001b[38;5;124m\"\u001b[39m, \u001b[38;5;124m\"\u001b[39m\u001b[38;5;124mDS\u001b[39m\u001b[38;5;124m\"\u001b[39m,\u001b[38;5;124m\"\u001b[39m\u001b[38;5;124mML\u001b[39m\u001b[38;5;124m\"\u001b[39m, \u001b[38;5;124m\"\u001b[39m\u001b[38;5;124mAN\u001b[39m\u001b[38;5;124m\"\u001b[39m,\u001b[38;5;241m22\u001b[39m,\u001b[38;5;241m33.4\u001b[39m}\n\u001b[0;32m      3\u001b[0m \u001b[38;5;28mprint\u001b[39m(\u001b[38;5;124m\"\u001b[39m\u001b[38;5;124mElements in s1:- \u001b[39m\u001b[38;5;124m\"\u001b[39m,s1 )\n\u001b[1;32m----> 5\u001b[0m \u001b[38;5;28mprint\u001b[39m(\u001b[38;5;124m\"\u001b[39m\u001b[38;5;124mGet the value from s1:- \u001b[39m\u001b[38;5;124m\"\u001b[39m,\u001b[43ms1\u001b[49m\u001b[43m[\u001b[49m\u001b[38;5;241;43m2\u001b[39;49m\u001b[43m]\u001b[49m) \u001b[38;5;66;03m#\u001b[39;00m\n",
      "\u001b[1;31mTypeError\u001b[0m: 'set' object is not subscriptable"
     ]
    }
   ],
   "source": [
    "s1 = {\"python\", \"Django\", \"DS\",\"ML\", \"AN\",22,33.4}\n",
    "\n",
    "print(\"Elements in s1:- \",s1 )\n",
    "\n",
    "print(\"Get the value from s1:- \",s1[2])"
   ]
  },
  {
   "cell_type": "code",
   "execution_count": 3,
   "id": "6495f718",
   "metadata": {
    "collapsed": true
   },
   "outputs": [
    {
     "name": "stdout",
     "output_type": "stream",
     "text": [
      "Set Elements:- Django \n",
      "\n",
      "Set Elements:- ML \n",
      "\n",
      "Set Elements:- DS \n",
      "\n",
      "Set Elements:- python \n",
      "\n",
      "True\n",
      "\n",
      "False\n"
     ]
    }
   ],
   "source": [
    "# We cannot access items in a set by referring to an index or a key.\n",
    "\n",
    "# But we can loop through the set items using a for loop,\n",
    "# or ask if a specified value is present in a set, by using the \"in\" keyword.\n",
    "\n",
    "s1 = {\"python\", \"Django\", \"DS\",\"ML\"}\n",
    "\n",
    "for x in s1:\n",
    "  print(\"Set Elements:-\",x,\"\\n\")\n",
    "\n",
    "print(\"Django\" in s1)\n",
    "\n",
    "print()\n",
    "\n",
    "print(\"Linux\" in s1)"
   ]
  },
  {
   "cell_type": "markdown",
   "id": "ef1c25c0",
   "metadata": {},
   "source": [
    "###### & and | Operations"
   ]
  },
  {
   "cell_type": "code",
   "execution_count": 6,
   "id": "505b1d8f",
   "metadata": {
    "collapsed": true
   },
   "outputs": [
    {
     "name": "stdout",
     "output_type": "stream",
     "text": [
      "& Operation :- set()\n",
      "\n",
      "| Operation :-  {'Python', 20.5, 'AWS', 10, 45.45, 30}\n"
     ]
    }
   ],
   "source": [
    "s1={10,20.50,\"Python\"}\n",
    "\n",
    "s2={30,45.45,\"AWS\"}\n",
    "\n",
    "print(\"& Operation :-\", s1&s2)\n",
    "\n",
    "print()\n",
    "\n",
    "print(\"| Operation :- \", s1|s2)"
   ]
  },
  {
   "cell_type": "markdown",
   "id": "fdc89165",
   "metadata": {},
   "source": [
    "### Add Method - Adding a single element to the set"
   ]
  },
  {
   "cell_type": "code",
   "execution_count": 7,
   "id": "022563b8",
   "metadata": {
    "collapsed": true
   },
   "outputs": [
    {
     "name": "stdout",
     "output_type": "stream",
     "text": [
      "Adding a new item:- {10, 'Python', 20.5, 77}\n"
     ]
    }
   ],
   "source": [
    "s1={10,20.50,\"Python\"}\n",
    "\n",
    "s1.add(77)\n",
    "\n",
    "print(\"Adding a new element:-\",s1)"
   ]
  },
  {
   "cell_type": "code",
   "execution_count": null,
   "id": "d8bd7fe9",
   "metadata": {},
   "outputs": [],
   "source": [
    "s1 = {\"python\", \"Django\", \"DS\",\"ML\"}\n",
    "\n",
    "s1.add(\"Java\")\n",
    "\n",
    "print(\"Add New Element into the Set:- \", s1)\n",
    "print()\n",
    "\n",
    "# s1.add(\"DevOps\",\"AWS\")\n",
    "# print(\"Add New Elements into the Set:- \", s1)\n",
    "# print()"
   ]
  },
  {
   "cell_type": "markdown",
   "id": "398cc96e",
   "metadata": {},
   "source": [
    "### Update Method - Updating multiple elements"
   ]
  },
  {
   "cell_type": "code",
   "execution_count": null,
   "id": "e462eddb",
   "metadata": {},
   "outputs": [],
   "source": [
    "# Once a set is created, you cannot change its items, but you can add new items.\n",
    "\n",
    "# To add one item to a set use the add() method.\n",
    "\n",
    "# To add more than one item (multiple items) to a set use the update() method."
   ]
  },
  {
   "cell_type": "code",
   "execution_count": 8,
   "id": "856fc7f4",
   "metadata": {},
   "outputs": [
    {
     "name": "stdout",
     "output_type": "stream",
     "text": [
      "Updating the Set with new elements:- {'Python', 40, 10, 50.5, 20.5, 'Java'}\n"
     ]
    }
   ],
   "source": [
    "s1={10,20.50,\"Java\"}\n",
    "\n",
    "s1.update([40,50.50,\"Python\"])\n",
    "\n",
    "print(\"Updating the Set with new elements:-\", s1)"
   ]
  },
  {
   "cell_type": "markdown",
   "id": "4c4cc86c",
   "metadata": {},
   "source": [
    "###### Length/Size of the set"
   ]
  },
  {
   "cell_type": "code",
   "execution_count": 11,
   "id": "c82d48ba",
   "metadata": {},
   "outputs": [
    {
     "name": "stdout",
     "output_type": "stream",
     "text": [
      "Length of the Set with:- 6\n",
      "\n",
      "Length of the Set with:- 5\n"
     ]
    }
   ],
   "source": [
    "s1={10,20,50,15,\"Java\",\"Python\"}\n",
    "\n",
    "print(\"Length of the Set with:-\",len(s1))\n",
    "\n",
    "print()\n",
    "\n",
    "s2={40, 10, 50.5, 20.5, 'DS'}\n",
    "\n",
    "print(\"Length of the Set with:-\",len(s2))"
   ]
  },
  {
   "cell_type": "markdown",
   "id": "5e6799fc",
   "metadata": {},
   "source": [
    "###### Python set operations (union, intersection, difference and symmetric difference)"
   ]
  },
  {
   "cell_type": "code",
   "execution_count": 9,
   "id": "00319eeb",
   "metadata": {
    "collapsed": true
   },
   "outputs": [
    {
     "name": "stdout",
     "output_type": "stream",
     "text": [
      "Union : {0, 1, 2, 3, 4, 5, 6, 8}\n",
      "\n",
      "Intersection : {2, 4}\n",
      "\n",
      "Difference : {0, 8, 6}\n",
      "\n",
      "Symmetric difference : {0, 1, 3, 5, 6, 8}\n"
     ]
    }
   ],
   "source": [
    "A = {0, 2, 4, 6, 8};\n",
    "B = {1, 2, 3, 4, 5};\n",
    "  \n",
    "# union\n",
    "print(\"Union :\", A | B)\n",
    "\n",
    "print()\n",
    "  \n",
    "# intersection\n",
    "print(\"Intersection :\", A & B)\n",
    "\n",
    "print()\n",
    "\n",
    "# difference\n",
    "print(\"Difference :\", A - B)\n",
    "\n",
    "print()\n",
    "\n",
    "# symmetric difference\n",
    "print(\"Symmetric difference :\", A ^ B)\n",
    "\n",
    "# Return a new set with elements in either the set or other but not both.\n",
    "\n",
    "# It’s performed by symmetric_difference() or by using the ^ operator."
   ]
  },
  {
   "cell_type": "code",
   "execution_count": 10,
   "id": "d3315eee",
   "metadata": {},
   "outputs": [
    {
     "name": "stdout",
     "output_type": "stream",
     "text": [
      "Length of the set :- 5\n"
     ]
    }
   ],
   "source": [
    "s1={40, 10, 50.5, 20.5, 'Python'}\n",
    "\n",
    "print(\"Length of the set :-\", len(s1))"
   ]
  },
  {
   "cell_type": "markdown",
   "id": "c49629c3",
   "metadata": {},
   "source": [
    "### Join of two sets"
   ]
  },
  {
   "cell_type": "code",
   "execution_count": null,
   "id": "bd7daaac",
   "metadata": {},
   "outputs": [],
   "source": [
    "# There are several ways to join two or more sets in Python.\n",
    "# We can use the union() method that returns a new set containing all items from both sets, \n",
    "# or the update() method that inserts all the items from one set into another"
   ]
  },
  {
   "cell_type": "code",
   "execution_count": 12,
   "id": "6f18c41d",
   "metadata": {},
   "outputs": [
    {
     "name": "stdout",
     "output_type": "stream",
     "text": [
      "Union of two sets:- {40, 10, 'c', 'a', 'b', 20, 'd', 30}\n",
      "\n",
      "Union of two sets:- {'Python', 40, 10, 50.5, 20, 20.5, 30}\n"
     ]
    }
   ],
   "source": [
    "# The union() method returns a new set with all items from both sets:\n",
    "\n",
    "set1 = {\"a\", \"b\" , \"c\",\"d\"}\n",
    "set2 = {10, 20, 30,40}\n",
    "\n",
    "s3=set1.union(set2)\n",
    "print(\"Union of two sets:-\", s3)\n",
    "\n",
    "print()\n",
    "\n",
    "s4=set2.union(s1)\n",
    "print(\"Union of two sets:-\", s4)"
   ]
  },
  {
   "cell_type": "code",
   "execution_count": 14,
   "id": "422d6a4e",
   "metadata": {
    "collapsed": true
   },
   "outputs": [
    {
     "name": "stdout",
     "output_type": "stream",
     "text": [
      "Update the set1 with set2 values:- {40, 10, 'c', 'a', 'b', 20, 'd', 30}\n",
      "\n",
      "Update the set2 with set1 values:- {40, 10, 'c', 'a', 'b', 20, 'd', 30}\n"
     ]
    }
   ],
   "source": [
    "set1 = {\"a\", \"b\" , \"c\",\"d\"}\n",
    "set2 = {10, 20, 30,40}\n",
    "\n",
    "set1.update(set2)\n",
    "print(\"Update the set1 with set2 values:-\", set1)\n",
    "\n",
    "print()\n",
    "\n",
    "set2.update(set1)\n",
    "print(\"Update the set2 with set1 values:-\",set2)"
   ]
  },
  {
   "cell_type": "markdown",
   "id": "c9ee06d7",
   "metadata": {},
   "source": [
    "###### Maximum & Minimum value"
   ]
  },
  {
   "cell_type": "code",
   "execution_count": 20,
   "id": "ce83cd93",
   "metadata": {},
   "outputs": [
    {
     "name": "stdout",
     "output_type": "stream",
     "text": [
      "Maximum value of set a:- 600\n"
     ]
    }
   ],
   "source": [
    "a={10,20,5,100,600,35}\n",
    "\n",
    "print(\"Maximum value of set a:-\", max(a))"
   ]
  },
  {
   "cell_type": "code",
   "execution_count": 21,
   "id": "f18d5e65",
   "metadata": {},
   "outputs": [
    {
     "name": "stdout",
     "output_type": "stream",
     "text": [
      "Minimum value of set a:- 5\n"
     ]
    }
   ],
   "source": [
    "a={10,20,5,100,600,35}\n",
    "\n",
    "print(\"Minimum value of set a:-\", min(a))"
   ]
  },
  {
   "cell_type": "markdown",
   "id": "bdf94b33",
   "metadata": {},
   "source": [
    "### Sorted"
   ]
  },
  {
   "cell_type": "code",
   "execution_count": 15,
   "id": "60d54bdd",
   "metadata": {},
   "outputs": [
    {
     "name": "stdout",
     "output_type": "stream",
     "text": [
      "Sorted value of set a:- [5, 10, 20, 35, 100, 600]\n",
      "\n",
      "Sorted value of set a:- [600, 100, 35, 20, 10, 5]\n"
     ]
    }
   ],
   "source": [
    "a={10,20,5,100,600,35}\n",
    "\n",
    "print(\"Sorted value of set a:-\", sorted(a))\n",
    "\n",
    "print()\n",
    "\n",
    "print(\"Sorted value of set a:-\", sorted(a,reverse=True))"
   ]
  },
  {
   "cell_type": "markdown",
   "id": "c95a8650",
   "metadata": {},
   "source": [
    "### Sum of the elements"
   ]
  },
  {
   "cell_type": "code",
   "execution_count": 23,
   "id": "d84f9eba",
   "metadata": {},
   "outputs": [
    {
     "name": "stdout",
     "output_type": "stream",
     "text": [
      "Sorted value of set a:- 770\n"
     ]
    }
   ],
   "source": [
    "a={10,20,5,100,600,35}\n",
    "\n",
    "print(\"Sum value of set a:-\", sum(a))"
   ]
  },
  {
   "cell_type": "markdown",
   "id": "9a2da695",
   "metadata": {},
   "source": [
    "### Removing items from set"
   ]
  },
  {
   "cell_type": "code",
   "execution_count": null,
   "id": "ca442fad",
   "metadata": {},
   "outputs": [],
   "source": [
    "# We can also use the pop(), method to remove an item, but this method will remove the last item.\n",
    "# Remember that sets are unordered, so we will not know what item that gets removed.\n",
    "\n",
    "Note: Sets are unordered, so when using the pop() method, you will not know which item that gets removed."
   ]
  },
  {
   "cell_type": "code",
   "execution_count": 24,
   "id": "c3b06db1",
   "metadata": {},
   "outputs": [
    {
     "name": "stdout",
     "output_type": "stream",
     "text": [
      "Pop value of set a:- {100, 5, 10, 20, 600}\n"
     ]
    }
   ],
   "source": [
    "a={10,20,5,100,600,35}\n",
    "\n",
    "a.pop()\n",
    "\n",
    "print(\"Pop value of set a:-\", a)"
   ]
  },
  {
   "cell_type": "code",
   "execution_count": 25,
   "id": "086d52ec",
   "metadata": {},
   "outputs": [
    {
     "name": "stdout",
     "output_type": "stream",
     "text": [
      "Pop value of set a:- {-100, -122, -234}\n"
     ]
    }
   ],
   "source": [
    "a={-122,-100,-378,-234}\n",
    "\n",
    "a.pop()\n",
    "\n",
    "print(\"Pop value of set a:-\", a)"
   ]
  },
  {
   "cell_type": "code",
   "execution_count": 26,
   "id": "f848ffd3",
   "metadata": {},
   "outputs": [
    {
     "name": "stdout",
     "output_type": "stream",
     "text": [
      "Pop value of set a:- {100, 5, 10, 20, 600}\n"
     ]
    }
   ],
   "source": [
    "a={10,20,5,100,600,35}\n",
    "\n",
    "a.pop()\n",
    "\n",
    "print(\"Pop value of set a:-\", a)"
   ]
  },
  {
   "cell_type": "code",
   "execution_count": 27,
   "id": "062efd9d",
   "metadata": {},
   "outputs": [
    {
     "name": "stdout",
     "output_type": "stream",
     "text": [
      "Pop value of set a:- {35, 100, 5, 90, 10, 20, 600, 56}\n"
     ]
    }
   ],
   "source": [
    "a={10,20,5,100,600,35,34,56,90}\n",
    "\n",
    "a.pop()\n",
    "\n",
    "print(\"Pop value of set a:-\", a)"
   ]
  },
  {
   "cell_type": "code",
   "execution_count": 29,
   "id": "8fadfc5f",
   "metadata": {},
   "outputs": [],
   "source": [
    "# The del keyword will delete the set completely:\n",
    "\n",
    "s3 = {\"python\", \"Django\", \"DS\",\"ML\"}\n",
    "\n",
    "del s3  \n",
    "\n",
    "# print(\"SET Elements after DEL:-\",s3)  #this will raise an error because the set no longer exists"
   ]
  },
  {
   "cell_type": "markdown",
   "id": "41779f7b",
   "metadata": {},
   "source": [
    "### Clear method"
   ]
  },
  {
   "cell_type": "code",
   "execution_count": 30,
   "id": "24773aa8",
   "metadata": {},
   "outputs": [
    {
     "name": "stdout",
     "output_type": "stream",
     "text": [
      "SET after clear() function:- set()\n"
     ]
    }
   ],
   "source": [
    "# The clear() method empties the set:\n",
    "\n",
    "s2 = {\"python\", \"Django\", \"DS\",\"ML\"}\n",
    "\n",
    "s2.clear()\n",
    "\n",
    "print(\"SET after clear() function:-\",s2)"
   ]
  },
  {
   "cell_type": "markdown",
   "id": "d7a7b43b",
   "metadata": {},
   "source": [
    "### Remove items"
   ]
  },
  {
   "cell_type": "code",
   "execution_count": 31,
   "id": "c0e99d2b",
   "metadata": {},
   "outputs": [
    {
     "name": "stdout",
     "output_type": "stream",
     "text": [
      "SET after remove() function:- {'ML', 'python', 'Django'}\n"
     ]
    }
   ],
   "source": [
    "s2 = {\"python\", \"Django\", \"DS\",\"ML\"}\n",
    "\n",
    "s2.remove(\"DS\")\n",
    "\n",
    "print(\"SET after remove() function:-\",s2)"
   ]
  },
  {
   "cell_type": "markdown",
   "id": "cb807869",
   "metadata": {},
   "source": [
    "### Discard"
   ]
  },
  {
   "cell_type": "code",
   "execution_count": 34,
   "id": "99a508a6",
   "metadata": {},
   "outputs": [
    {
     "name": "stdout",
     "output_type": "stream",
     "text": [
      "SET after discard() function:- {'DS', 'python', 'Django'}\n",
      "SET after discard() function:- {'python', 'Django'}\n"
     ]
    }
   ],
   "source": [
    "s2 = {\"python\", \"Django\", \"DS\",\"ML\"}\n",
    "\n",
    "s2.discard(\"ML\")\n",
    "\n",
    "print(\"SET after discard() function:-\",s2)\n",
    "\n",
    "print()\n",
    "\n",
    "s2.discard(\"DS\")\n",
    "\n",
    "print(\"SET after discard() function:-\",s2)"
   ]
  },
  {
   "cell_type": "code",
   "execution_count": null,
   "id": "e4bb63f6",
   "metadata": {},
   "outputs": [],
   "source": []
  }
 ],
 "metadata": {
  "kernelspec": {
   "display_name": "Python 3 (ipykernel)",
   "language": "python",
   "name": "python3"
  },
  "language_info": {
   "codemirror_mode": {
    "name": "ipython",
    "version": 3
   },
   "file_extension": ".py",
   "mimetype": "text/x-python",
   "name": "python",
   "nbconvert_exporter": "python",
   "pygments_lexer": "ipython3",
   "version": "3.11.2"
  }
 },
 "nbformat": 4,
 "nbformat_minor": 5
}
