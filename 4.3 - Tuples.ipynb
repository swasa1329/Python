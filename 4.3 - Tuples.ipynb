{
 "cells": [
  {
   "cell_type": "markdown",
   "metadata": {},
   "source": [
    "###### Tuples"
   ]
  },
  {
   "cell_type": "markdown",
   "metadata": {},
   "source": [
    "1.A tuple is an immutable list of values.\n",
    "\n",
    "2.Tuples are one of Python's simplest and most common collection types, and\n",
    "  can be created with the comma operator (value = 1, 2, 3). \n",
    "\n",
    "3.The main difference between lists and tuples is- Lists are enclosed in brackets [] and\n",
    "  their elements and size can be changed, while tuples are enclosed in parentheses ( ) and cannot be updated. \n",
    "\n",
    "4.Tuples can be thought of as read-only Lists."
   ]
  },
  {
   "cell_type": "code",
   "execution_count": null,
   "metadata": {},
   "outputs": [],
   "source": [
    "Months=(\"JAN\",\"FEB\",\"MAR\")\n",
    "print(\"Months using Tuples:- \",Months )\n",
    "\n",
    "print()\n",
    "\n",
    "#Try with different Values\n",
    "\n",
    "X=(1.2,21,20+2j,\"Python\")\n",
    "\n",
    "print(\"Mixed Values using Tuples:- \", X)\n",
    "\n",
    "print()\n",
    "\n",
    "print(\"Type of X:- \", type(X))"
   ]
  },
  {
   "cell_type": "code",
   "execution_count": null,
   "metadata": {},
   "outputs": [],
   "source": [
    "T=('Data Science')\n",
    "print(\"Data Type of T:- \",type(T))\n",
    "\n",
    "print()\n",
    "\n",
    "T1=('Python','Java')\n",
    "print(\"Data Type of T1:- \",type(T1))\n",
    "\n",
    "print()\n",
    "\n",
    "T2=(123,)\n",
    "print(\"Data Type of T:- \",type(T2))\n",
    "print()\n",
    "\n",
    "T3=('Machine Learning',)\n",
    "print(\"Data Type of T:- \",type(T3))"
   ]
  },
  {
   "cell_type": "code",
   "execution_count": null,
   "metadata": {},
   "outputs": [],
   "source": [
    "# Note that a single value in parentheses is not a tuple:\n",
    "\n",
    "t2 = ('a')\n",
    "\n",
    "print(\"Data type of t2:-\", type(t2)) # <type 'str'>\n",
    "\n",
    "print()\n",
    "\n",
    "# To create a singleton tuple it is necessary to have a trailing comma.\n",
    "\n",
    "t2 = ('a',)\n",
    "\n",
    "print(\"tuple with single element:-\", t2, \"\\n\")\n",
    "\n",
    "print(\"Data type:-\", type(t2)) # <type 'tuple'>\n",
    "\n",
    "print()\n",
    "\n",
    "# Tuples are technically defined by the presence of a comma; the parentheses make them look neater and more readable. \n",
    "# If you want to define a tuple with one element, you need to include a trailing comma:\n",
    "    \n",
    "t2 = (3,)\n",
    "print(\"Single element tuple:- \",t2)"
   ]
  },
  {
   "cell_type": "code",
   "execution_count": null,
   "metadata": {},
   "outputs": [],
   "source": [
    "# Another way to create a tuple is the built-in function tuple.\n",
    "\n",
    "t = tuple('lupins')\n",
    "\n",
    "print(t)\n",
    "\n",
    "t1 = tuple('lupins', 'Test') # tuple() method takes only one argument. \n",
    "print(t1)"
   ]
  },
  {
   "cell_type": "markdown",
   "metadata": {},
   "source": [
    "###### Accessing Tuple Items"
   ]
  },
  {
   "cell_type": "markdown",
   "metadata": {},
   "source": [
    "### Ordering of Tuples"
   ]
  },
  {
   "cell_type": "code",
   "execution_count": null,
   "metadata": {},
   "outputs": [],
   "source": [
    "T3=(10,\"Python\",50.5,\"DS\",60)\n",
    "\n",
    "T4=(10,60,\"Python\",50.5,\"DS\")\n",
    "\n",
    "T5=(10,\"Python\",50.5,\"DS\",60)\n",
    "\n",
    "print(\"Checking the Ordering of two Tuples:- \", T3==T4, \"\\n\")\n",
    "\n",
    "print(\"Checking the Ordering of two Tuples:- \", T3==T5, \"\\n\")\n",
    "\n",
    "print(\"Checking the Ordering of two Tuples:- \", T3==T4==T5)"
   ]
  },
  {
   "cell_type": "markdown",
   "metadata": {},
   "source": [
    "###### Indexing and Slicing in Tuples"
   ]
  },
  {
   "cell_type": "code",
   "execution_count": null,
   "metadata": {},
   "outputs": [],
   "source": [
    "T1=(11,2,22,33.3,32+2j,\"ABC\", \"BBC\")\n",
    "\n",
    "print(\"Third element of the Tuple\", T1[2]) \n",
    "\n",
    "print()\n",
    "\n",
    "# You can access tuple items by referring to the index number, inside square brackets:\n",
    "\n",
    "print(\"Last element of the Tuple\", T1[-1])\n",
    "print()\n",
    "\n",
    "print(\"Last two elements of the Tuple\", T1[5:7])\n",
    "print()\n",
    "\n",
    "print(\"All elements of the Tuple\", T1[:])\n",
    "print()\n",
    "\n",
    "T2=T1[1:5]\n",
    "print(\"New Tuple Elements:- \", T2) # We can split Tuple values"
   ]
  },
  {
   "cell_type": "code",
   "execution_count": null,
   "metadata": {},
   "outputs": [],
   "source": [
    "T1=(1,4,9,16,25,36)\n",
    "\n",
    "print(\"Square values in the Tuple:- \", T1)\n",
    "print()\n",
    "print(\"First Value in the Tuple:- \", T1[0])\n",
    "print()\n",
    "print(\"Last but one Value in the Tuple:- \", T1[-2])\n",
    "print()\n",
    "print(\"Negative Index from -3 Values in the Tuple:- \", T1[-3:])\n",
    "print()\n",
    "print(\"Negative Index till -4 Values in the Tuple:- \", T1[-4:])"
   ]
  },
  {
   "cell_type": "code",
   "execution_count": null,
   "metadata": {},
   "outputs": [],
   "source": [
    "T1=(1,4,9,16,25,36)\n",
    "\n",
    "print(\"-3 to -6 values in the Tuple:- \", T1[-6:-3])\n",
    "print()\n",
    "print(\"-2 to -4 valuesin the Tuple:- \", T1[-4:-2])\n",
    "print()\n",
    "print(\"-1 to -6 valuesin the Tuple:- \", T1[-6:-1])\n",
    "print()\n",
    "print(\"5 to 2 valuesin the Tuple:- \", T1[5:2])\n",
    "print()\n",
    "print(\"Mixed Values of the Tuple:- \", T1[-3:-1],T1[2:4])\n",
    "print()\n",
    "print(\"Mixed Values of the Tuple:- \", T1[-1:0])\n",
    "print()\n",
    "print(\"Mixed Values of the Tuple:- \", T1[-2:-1])\n",
    "print()\n",
    "print(\"Mixed Values of the Tuple:- \", T1[-2:1])\n",
    "print()\n",
    "print(\"Mixed Values of the Tuple:- \", T1[4:-1])\n",
    "print()\n",
    "print(\"Mixed Values of the Tuple:- \", T1[2:-1])\n",
    "print()\n",
    "print(\"Mixed Values of the Tuple:- \", T1[-1:-1])"
   ]
  },
  {
   "cell_type": "code",
   "execution_count": null,
   "metadata": {},
   "outputs": [],
   "source": [
    "T1=(10,20,30.5,40+2j, \"Python\", \"Java\")\n",
    "print(\"List Items with Different types :- \", T1)\n",
    "\n",
    "print()\n",
    "\n",
    "T2=(0,1,2,3,4,5,6,7,8,9,10,11,12,13,14,15,16,17,18,19,20,21,22,23,24,25,26,27,28,29,30,31,32,33,34,35,36,37,38,39,40,41,42,43,44,45)\n",
    "print(\"Long tuple items :- \", \"\\n\", T2)"
   ]
  },
  {
   "cell_type": "markdown",
   "metadata": {},
   "source": [
    "###### Tuple with Different Data Types"
   ]
  },
  {
   "cell_type": "code",
   "execution_count": null,
   "metadata": {},
   "outputs": [],
   "source": [
    "T2 = (1, 2, 3, 4, 5, 'Hello')\n",
    "print(\"Tuple with different data types:-\",T2)\n",
    "print()\n",
    "\n",
    "#Data types Tuples can contain all kinds of things, even other Tuples.\n",
    "\n",
    "T3=(11,22,33.3,44.04,\"python\", \"ML\", 54+2j, (50,60,70))\n",
    "print(\"Tuple within a Tuple: - \", T3)\n",
    "print()\n",
    "\n",
    "T4=((11,22,33.3,44.04,\"DS\", \"ML\", 54+2j), (50,60,70,\"DL\",\"DataScience\"),66+2j)\n",
    "print(\"Multiple Tuples: - \", T4)"
   ]
  },
  {
   "cell_type": "markdown",
   "metadata": {},
   "source": [
    "###### Builtin Functions"
   ]
  },
  {
   "cell_type": "code",
   "execution_count": null,
   "metadata": {},
   "outputs": [],
   "source": [
    "# Tuple Length - The function len returns the total length of the tuple.\n",
    "\n",
    "# Len() is used to determine how many items a tuple has, use the len() method\n",
    "\n",
    "tuple1 = ('a', 'b', 'c', 'd', 'e')\n",
    "\n",
    "print(\"The Length of the tuple:-\",len(tuple1),\"\\n\")\n",
    "\n",
    "tp = (\"apple\", \"banana\", \"cherry\")\n",
    "\n",
    "print(\"The Length of the tuple:-\",len(tp))"
   ]
  },
  {
   "cell_type": "code",
   "execution_count": null,
   "metadata": {},
   "outputs": [],
   "source": [
    "# Max of a tuple: The function max returns item from the tuple with the max value\n",
    "\n",
    "tuple2 = ('1','2','3')\n",
    "\n",
    "print(\"Maximum value in the tuple:-\",max(tuple2),\"\\n\")\n",
    "\n",
    "tuple1 = ('z', 'b', 'c', 'e', 'd')\n",
    "print(\"Maximum value in the tuple:-\",max(tuple1),\"\\n\")\n",
    "\n",
    "# Min of a tuple - The function min returns the item from the tuple with the min value\n",
    "\n",
    "print(\"Minimum value in the tuple:-\",min(tuple1),\"\\n\")\n",
    "\n",
    "print(\"Minimum value in the tuple:-\",min(tuple2),\"\\n\")\n",
    "\n",
    "# Count - Displays the count of item occurance \n",
    "\n",
    "animals = (10, 20, 30, 'tiger', 'lion', 'wolf', 'lion')\n",
    "\n",
    "print(\"The count of lion:-\",animals.count('lion'))"
   ]
  },
  {
   "cell_type": "code",
   "execution_count": null,
   "metadata": {},
   "outputs": [],
   "source": [
    "# Convert a list into tuple\n",
    "# The built-in function tuple converts a list into a tuple.\n",
    "\n",
    "list = [1,2,3,4,5]\n",
    "\n",
    "print(\"Converting List to tuple:-\", tuple(list))"
   ]
  },
  {
   "cell_type": "code",
   "execution_count": null,
   "metadata": {},
   "outputs": [],
   "source": [
    "# Convert tuple to list\n",
    "\n",
    "Tuple1 = (True, 28, 'Tiger')\n",
    " \n",
    "#tuple to list\n",
    "\n",
    "L1 = list(Tuple1) # Cannot convert tuple to list. \n",
    "\n",
    "print(\"Converting tuple to List :- \", L1)"
   ]
  },
  {
   "cell_type": "code",
   "execution_count": null,
   "metadata": {},
   "outputs": [],
   "source": [
    "# Tuple concatenation: Use + to concatenate two tuples\n",
    "\n",
    "tuple1 = ('a', 'b', 'c', 'd', 'e')\n",
    "tuple2 = ('1','2','3')\n",
    "\n",
    "print(\"Concatenation of tuples:-\", tuple1 + tuple2)"
   ]
  },
  {
   "cell_type": "markdown",
   "metadata": {},
   "source": [
    "###### Remove The Items"
   ]
  },
  {
   "cell_type": "code",
   "execution_count": null,
   "metadata": {},
   "outputs": [],
   "source": [
    "Tuple4=(12,23,332,32.4,\"Python\",\"Java\")\n",
    "\n",
    "# Tuple4[4:5]=[] # We can't del\n",
    "\n",
    "# print(\"Delete index 4th value in Tuple:- \", Tuple4)\n",
    "\n",
    "# Note: You cannot remove items in a tuple.\n",
    "# Tuples are unchangeable, so you cannot remove items from it,\n",
    "# but you can delete the tuple completely:\n",
    "# The del keyword can delete the tuple completely:\n",
    "\n",
    "del(Tuple4)\n",
    "\n",
    "print(\"Delete Tuple:-\", Tuple4)"
   ]
  },
  {
   "cell_type": "code",
   "execution_count": null,
   "metadata": {},
   "outputs": [],
   "source": []
  }
 ],
 "metadata": {
  "kernelspec": {
   "display_name": "Python 3 (ipykernel)",
   "language": "python",
   "name": "python3"
  },
  "language_info": {
   "codemirror_mode": {
    "name": "ipython",
    "version": 3
   },
   "file_extension": ".py",
   "mimetype": "text/x-python",
   "name": "python",
   "nbconvert_exporter": "python",
   "pygments_lexer": "ipython3",
   "version": "3.11.2"
  }
 },
 "nbformat": 4,
 "nbformat_minor": 4
}
