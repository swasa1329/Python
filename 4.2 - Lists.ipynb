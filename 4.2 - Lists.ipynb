{
 "cells": [
  {
   "cell_type": "markdown",
   "id": "011a85f5",
   "metadata": {},
   "source": [
    "Lists are used to store multiple items in a single variable.<br />\n",
    "\n",
    "Lists are created using square brackets.\n",
    "    \n",
    "List items are ordered, changeable, and allow duplicate values.\n",
    "\n",
    "List items are indexed, the first item has index [0], the second item has index [1] etc.\n",
    "\n",
    "A list in Python is used to store the sequence of various types of data. \n",
    "\n",
    "A list can be defined as a collection of values or items of different types. \n",
    "\n",
    "The items in the list are separated with the comma (,) and enclosed with the square brackets []."
   ]
  },
  {
   "cell_type": "markdown",
   "id": "bdc32ea3",
   "metadata": {},
   "source": [
    "###### Characteristics Of Lists"
   ]
  },
  {
   "cell_type": "markdown",
   "id": "8f24f3b6",
   "metadata": {},
   "source": [
    "The list has the following characteristics:\n",
    "\n",
    "1. LISTS ARE ORDERED:-\n",
    "   When we say that lists are ordered, it means that the items have a defined order, and that order will not change.\n",
    "   If we add new items to a list, the new items will be placed at the end of the list.\n",
    "\n",
    "2. LISTS ARE CHANGEABLE:-  \n",
    "   The listS are changeable, meaning that we can change, add, and remove items in a list after it has been created.\n",
    "\n",
    "3. INDEXING:- \n",
    "   The element of the list can access by index.\n",
    "   Allows Duplicates:- Since lists are indexed, lists can have items with the same value\n",
    "    \n",
    "4. Mutable:- \n",
    "   Lists are mutable type, its mean, we can modify its element after it created."
   ]
  },
  {
   "cell_type": "markdown",
   "id": "d54ab9dd",
   "metadata": {},
   "source": [
    "###### Creating a list"
   ]
  },
  {
   "cell_type": "code",
   "execution_count": null,
   "id": "e06c3f09",
   "metadata": {},
   "outputs": [],
   "source": [
    "L1 = []\n",
    "\n",
    "print(\"Empty Lists: - \", L1)\n",
    "\n",
    "print()\n",
    "\n",
    "print(\"Data Type of Lists: - \", type(L1))"
   ]
  },
  {
   "cell_type": "code",
   "execution_count": null,
   "id": "36b8d323",
   "metadata": {},
   "outputs": [],
   "source": [
    "L2=[10,20,30,40]\n",
    "\n",
    "print()\n",
    "\n",
    "print(\"List Items:- \", L2)"
   ]
  },
  {
   "cell_type": "code",
   "execution_count": null,
   "id": "827a8303",
   "metadata": {},
   "outputs": [],
   "source": [
    "Age = [21, 22, 23, 24, 25]\n",
    "\n",
    "print()\n",
    "\n",
    "print(\"Age values:-\",Age)"
   ]
  },
  {
   "cell_type": "code",
   "execution_count": null,
   "id": "2ae5e2dc",
   "metadata": {},
   "outputs": [],
   "source": [
    "L3 = [10, 24.5, 10j, \"Fruits\", \"Flowers\"]\n",
    "\n",
    "print()\n",
    "\n",
    "print(\"List values with different types:-\",L3)"
   ]
  },
  {
   "cell_type": "code",
   "execution_count": null,
   "id": "1b855368",
   "metadata": {},
   "outputs": [],
   "source": [
    "nums = [0, 1, 2, 3, 4, 5, 6, 7, 8, 9, 10, 11, 12, 13, 14, 15, 16,17, 18, 19, 20, 21, 22, 23, 24, 25, 26, 27, 28, 29, 30, 31,\n",
    "32, 33, 34, 35, 36, 37, 38, 39, 40]\n",
    "\n",
    "print()\n",
    "\n",
    "print(\"Printing Long List:-\\n\",nums)"
   ]
  },
  {
   "cell_type": "code",
   "execution_count": null,
   "id": "dd91acc7",
   "metadata": {},
   "outputs": [],
   "source": [
    "L1 = [\"John\", 102, \"USA\"]    \n",
    "L2 = [1, 2, 3, 4, 5, 6] \n",
    "\n",
    "print(\"Type of a given list:-\", type(L1),L1)  \n",
    "print()\n",
    "print(\"Type of given list:-\", type(L2),L2)"
   ]
  },
  {
   "cell_type": "markdown",
   "id": "26b20a33",
   "metadata": {},
   "source": [
    "###### List with different data types"
   ]
  },
  {
   "cell_type": "code",
   "execution_count": null,
   "id": "cee1c57a",
   "metadata": {},
   "outputs": [],
   "source": [
    "L1 = [1, 2, 3, 4, 5, 'Hello']\n",
    "\n",
    "print(\"List with different data types:-\",L1)"
   ]
  },
  {
   "cell_type": "code",
   "execution_count": null,
   "id": "7c3eac9e",
   "metadata": {},
   "outputs": [],
   "source": [
    "# Data types Lists can contain all kinds of things, even other lists. \n",
    "\n",
    "# For example, the following is a valid list:\n",
    "    \n",
    "L1=[1, 2.718, 'abc', [5,6,7]] # List within a list\n",
    "\n",
    "print(\"List with different data types:-\",L1)\n",
    "\n",
    "print()\n",
    "\n",
    "L2=[11,22,33.3,44.04,\"python\", \"Java\", 54+2j, [50,60,70]]\n",
    "\n",
    "print(\"List within a List: - \", L2)"
   ]
  },
  {
   "cell_type": "code",
   "execution_count": null,
   "id": "9e14203e",
   "metadata": {},
   "outputs": [],
   "source": [
    "# Multiple lists \n",
    "\n",
    "L4=[[11,22,33.3,44.04,\"Python\", \"Java\", 54+2j], [50,60,70,\"DS\",\"Data\"],66+2j]\n",
    "\n",
    "print(\"List within a multiple Lists: - \", L4)"
   ]
  },
  {
   "cell_type": "markdown",
   "id": "856b795d",
   "metadata": {},
   "source": [
    "###### Ordering"
   ]
  },
  {
   "cell_type": "code",
   "execution_count": null,
   "id": "7824a842",
   "metadata": {},
   "outputs": [],
   "source": [
    "x=[10,20,\"Python\",50.5,\"DS\",60,80]\n",
    "\n",
    "y=[10,20,60,\"Python\",50.5,\"DS\",80]\n",
    "\n",
    "print(\"Checking the Ordering of two Lists:- \", x==y)\n",
    "\n",
    "# Both lists have consisted of the same elements, \n",
    "# but the second list changed the index position of the 5th element that violates the order of lists. \n",
    "# When compare both lists, it returns the false.\n",
    "\n",
    "# Lists maintain the order of the element for the lifetime. That's why it is the ordered collection of objects.\n",
    "\n",
    "print()\n",
    "\n",
    "x1=[10,20,\"Python\",50.5,\"DS\",60,80]\n",
    "\n",
    "y1=[10,20,\"Python\",50.5,\"DS\",60,80]\n",
    "\n",
    "print(\"Checking the Ordering of two Lists:- \", x1==y1)"
   ]
  },
  {
   "cell_type": "markdown",
   "id": "d24e4fc3",
   "metadata": {},
   "source": [
    "###### Indexing and Slicing"
   ]
  },
  {
   "cell_type": "markdown",
   "id": "d02336d2",
   "metadata": {},
   "source": [
    "The elements of the list can be accessed by using the slice operator [].\n",
    "  \n",
    "The index starts from 0 and goes to `length - 1`. \n",
    "\n",
    "The first element of the list is stored at the 0th index,\n",
    "the second element of the list is stored at the 1st index, and so on.\n",
    "\n",
    "We can get the sub-list of the list using the following syntax :- `list_varible(start:stop:step)`\n",
    "\n",
    "The start denotes the starting index position of the list.\n",
    "\n",
    "The stop denotes the last index position of the list.\n",
    "\n",
    "The step is used to skip the nth element within a <span style=\"color: red;\">start:stop</span> "
   ]
  },
  {
   "attachments": {
    "image.png": {
     "image/png": "[encoded data removed]"
    }
   },
   "cell_type": "markdown",
   "id": "e9756eba",
   "metadata": {},
   "source": [
    "![image.png](attachment:image.png)"
   ]
  },
  {
   "cell_type": "code",
   "execution_count": null,
   "id": "a15962df",
   "metadata": {},
   "outputs": [],
   "source": [
    "L1=[11,2,22,33,32,\"ABC\", \"BBC\"]\n",
    "\n",
    "print(\"Third element of the list\", L1[2])\n",
    "print()\n",
    "\n",
    "print(\"Last element of the list\", L1[-1])\n",
    "print()\n",
    "\n",
    "print(\"To get elements from 5 to 7\", L1[5:7])\n",
    "print()\n",
    "\n",
    "print(\"To get all elements in the list\", L1[:])\n",
    "print()\n",
    "\n",
    "L2=L1[1:5]\n",
    "print(\"New ListElements:- \", L2) # We can split list values"
   ]
  },
  {
   "cell_type": "code",
   "execution_count": null,
   "id": "303c54aa",
   "metadata": {},
   "outputs": [],
   "source": [
    "L1 = [1, 2, 3, 4, 5, 'Hello']\n",
    "\n",
    "print(\"1) To Print Third element in the list:-\", L1[2])\n",
    "\n",
    "print(\"2) To Print last element in the list:-\", L1[-1])\n",
    "\n",
    "print(\"********************************************\")\n",
    "\n",
    "L2 = L1[1:5]  # #assign L1 (from index 1 to 4) to L2\n",
    "\n",
    "print()\n",
    "print(\"New List elements:-\",L2)"
   ]
  },
  {
   "cell_type": "code",
   "execution_count": null,
   "id": "839c4dee",
   "metadata": {},
   "outputs": [],
   "source": [
    "L3=[10, 24.5, 10j, \"Fruits\", \"Flowers\"]\n",
    "\n",
    "print(\"Slicing on list having different types:-\", L3[2:5])\n",
    "print()\n",
    "\n",
    "L4 = [\"apple\", \"banana\", \"cherry\", \"orange\", \"kiwi\", \"melon\", \"mango\"]\n",
    "\n",
    "print(\"Negative Slicing on list having string values:-\", L4[-4:-1])"
   ]
  },
  {
   "cell_type": "code",
   "execution_count": null,
   "id": "9f6b49e9",
   "metadata": {},
   "outputs": [],
   "source": [
    "L1=[1,4,9,16,25,36]\n",
    "\n",
    "print(\"Square valuesin the List:- \", L1)\n",
    "print()\n",
    "\n",
    "print(\"First Value in the List:- \", L1[0])\n",
    "print()\n",
    "\n",
    "print(\"Last but one Value in the List:- \", L1[-2])\n",
    "print()\n",
    "\n",
    "print(\"Negative Index from -3 Values in the List:- \", L1[-3:])\n",
    "print()\n",
    "\n",
    "print(\"Negative Index till -4 Values in the List:- \", L1[-4:])"
   ]
  },
  {
   "cell_type": "markdown",
   "id": "3436a94d",
   "metadata": {},
   "source": [
    "###### Slicing with STEP VALUE"
   ]
  },
  {
   "cell_type": "code",
   "execution_count": null,
   "id": "b9dad407",
   "metadata": {},
   "outputs": [],
   "source": [
    "list=[10,20,30,40,50,60,70]\n",
    "\n",
    "print(\"List Values :- \", list[0:7])\n",
    "print()\n",
    "\n",
    "print(\"Slicing with step value 2 :-\", list[1:6:2])\n",
    "print()\n",
    "\n",
    "print(\"Slicing with step value 3:-\", list[1:6:3])\n",
    "print()\n",
    "\n",
    "print(\"Slicing with step value 3:-\", list[0:6:3])\n",
    "print()\n",
    "\n",
    "print(\"Slicing with step value 3:-\", list[0:7:3])\n",
    "print()\n",
    "\n",
    "print(\"Slicing with step value 4:-\", list[1:4:4])\n",
    "print()\n",
    "\n",
    "print(\"Slicing with step value :-\", list[1:-1:3])"
   ]
  },
  {
   "cell_type": "code",
   "execution_count": null,
   "id": "e79c31cd",
   "metadata": {},
   "outputs": [],
   "source": [
    "L5=[1,2,3,4,5,6,7,8,9,10,11,12]\n",
    "\n",
    "print(\"new copy of list:- \", L5[:])\n",
    "print()\n",
    "\n",
    "print(\"new copy of list:- \", L5)\n",
    "print()\n",
    "\n",
    "print(\"Slicing with step value :-\", L5[1:12])\n",
    "print()\n",
    "\n",
    "print(\"Slicing with step value 2 :-\", L5[1:12:2])\n",
    "print()\n",
    "\n",
    "print(\"Slicing with step value 3 :-\", L5[1:12:3])\n",
    "print()\n",
    "\n",
    "print(\"Slicing with step value 5 :-\", L5[1:12:5])\n",
    "print()\n",
    "\n",
    "print(\"Slicing with step value 6 :-\", L5[3:12:6])\n",
    "print()\n",
    "\n",
    "print(\"Slicing with step value 2 :-\", L5[3:12:2])"
   ]
  },
  {
   "cell_type": "markdown",
   "id": "6ebf9ce5",
   "metadata": {},
   "source": [
    "###### Slicing with negative index"
   ]
  },
  {
   "cell_type": "markdown",
   "id": "e9756bde",
   "metadata": {},
   "source": [
    "Python provides the flexibility to use the negative indexing also.\n",
    "\n",
    "The negative indices are counted from the right to left. \n",
    "\n",
    "The last element (rightmost) of the list has the index -1; \n",
    "its adjacent left element is present at the index -2 and \n",
    "so on until the left-most elements are encountered."
   ]
  },
  {
   "attachments": {
    "image.png": {
     "image/png": "[encoded data removed]"
    }
   },
   "cell_type": "markdown",
   "id": "3c4ae23c",
   "metadata": {},
   "source": [
    "![image.png](attachment:image.png)"
   ]
  },
  {
   "cell_type": "code",
   "execution_count": null,
   "id": "ead19896",
   "metadata": {},
   "outputs": [],
   "source": [
    "list = [10,20,30,40,50] \n",
    "\n",
    "print(\"1) Slicing with index -1:-\",list[-1])  \n",
    "print(\"2) Slicing starting with index -3:-\", list[-3:])  \n",
    "print(\"3) Slicing ending with -1:-\",list[:-1])  \n",
    "print(\"4) Slicing range between -3 to -1:-\",list[-3:-1])"
   ]
  },
  {
   "cell_type": "code",
   "execution_count": 29,
   "id": "ae312226",
   "metadata": {
    "collapsed": true
   },
   "outputs": [
    {
     "name": "stdout",
     "output_type": "stream",
     "text": [
      "*********************************************\n",
      "1) Square values in the list:- [1, 4, 9, 16, 25]\n",
      "2) Print first value in the list:- 1\n",
      "3) Print last value in the list with negative index:- 25\n",
      "4) Print the list values with negative index starting with -3:- [9, 16, 25]\n",
      "5) Prints the new (shallow) copy of the list:- [1, 4, 9, 16, 25]\n",
      "************************************************\n"
     ]
    }
   ],
   "source": [
    "s1 = [1, 4, 9, 16, 25]\n",
    "\n",
    "print(\"*********************************************\")\n",
    "print(\"1) Square values in the list:-\", s1)\n",
    "print(\"2) Print first value in the list:-\", s1[0]) # indexing returns the item\n",
    "print(\"3) Print last value in the list with negative index:-\",s1[-1])\n",
    "print(\"4) Print the list values with negative index starting with -3:-\", s1[-3:]) # slicing returns a new list\n",
    "print(\"5) Prints the new (shallow) copy of the list:-\",s1[:])  # returns a new (shallow) copy of the list:\n",
    "print(\"************************************************\")"
   ]
  },
  {
   "cell_type": "code",
   "execution_count": 31,
   "id": "5ab9dd43",
   "metadata": {
    "collapsed": true
   },
   "outputs": [
    {
     "name": "stdout",
     "output_type": "stream",
     "text": [
      "Mixed valuesin the List:-  [16, 25]\n",
      "\n",
      "Mixed valuesin the List:-  [9, 16]\n",
      "\n",
      "Mixed valuesin the List:-  [9]\n",
      "\n",
      "Mixed valuesin the List:-  [4, 9]\n",
      "\n",
      "Mixed valuesin the List:-  [25, 36]\n",
      "\n",
      "Mixed valuesin the List:-  [16, 25]\n"
     ]
    }
   ],
   "source": [
    "L1=[1,4,9,16,25,36]\n",
    "\n",
    "print(\"Mixed valuesin the List:- \", L1[3:-1]) #Always starts with greater value to lower value in list[Greater:Lower]\n",
    "print()\n",
    "print(\"Mixed valuesin the List:- \", L1[2:-2])\n",
    "print()\n",
    "print(\"Mixed valuesin the List:- \", L1[2:-3])\n",
    "print()\n",
    "print(\"Mixed valuesin the List:- \", L1[1:-3])\n",
    "print()\n",
    "print(\"Mixed valuesin the List:- \", L1[4:])\n",
    "print()\n",
    "print(\"Mixed valuesin the List:- \", L1[-3:-1])"
   ]
  },
  {
   "cell_type": "code",
   "execution_count": 30,
   "id": "ce7198a2",
   "metadata": {
    "collapsed": true
   },
   "outputs": [
    {
     "name": "stdout",
     "output_type": "stream",
     "text": [
      "Slicing on list having different types:- [10j, 'Fruits', 'Flowers']\n",
      "\n",
      "Negative Slicing on list having string values:- ['orange', 'kiwi', 'melon']\n"
     ]
    }
   ],
   "source": [
    "L3=[10, 24.5, 10j, \"Fruits\", \"Flowers\"]\n",
    "\n",
    "print(\"Slicing on list having different types:-\", L3[2:5])\n",
    "print()\n",
    "\n",
    "L4 = [\"apple\", \"banana\", \"cherry\", \"orange\", \"kiwi\", \"melon\", \"mango\"]\n",
    "\n",
    "print(\"Negative Slicing on list having string values:-\", L4[-4:-1])"
   ]
  },
  {
   "cell_type": "markdown",
   "id": "d7d3d1f2",
   "metadata": {},
   "source": [
    "###### Modifying or updating list elements"
   ]
  },
  {
   "cell_type": "markdown",
   "id": "ee055a39",
   "metadata": {},
   "source": [
    "Lists are the most versatile data structures in Python since they are mutable, \n",
    "and their values can be updated by using the slice and assignment operator.\n",
    "\n",
    "Python also provides append() and insert() methods, which can be used to add values to the list."
   ]
  },
  {
   "cell_type": "code",
   "execution_count": 33,
   "id": "60aec56e",
   "metadata": {},
   "outputs": [
    {
     "name": "stdout",
     "output_type": "stream",
     "text": [
      "Printing the second element in the list:- 20\n",
      "\n",
      "Updated element in the list :- [10, 200, 30, 40, 50, 'python']\n",
      "\n",
      "Updated string from the list :- [10, 200, 30, 40, 50, 'Data Analytics']\n"
     ]
    }
   ],
   "source": [
    "l1=[10,20,30,40,50,'python']\n",
    "\n",
    "print(\"Printing the second element in the list:-\", l1[1])\n",
    "print()\n",
    "\n",
    "l1[1]=200\n",
    "print(\"Updated element in the list :-\", l1)\n",
    "print()\n",
    "\n",
    "l1[5]='Data Analytics'\n",
    "print(\"Updated string from the list :-\", l1)"
   ]
  },
  {
   "cell_type": "code",
   "execution_count": null,
   "id": "c41a0a37",
   "metadata": {},
   "outputs": [],
   "source": [
    "L6=[11,22,33,44,55,66,77,88,99]\n",
    "\n",
    "print(\"Main List:-\", L6)\n",
    "print()\n",
    "\n",
    "L6[2]=3\n",
    "L6[4]=5\n",
    "\n",
    "print(\"1. Update Element in the List:- \", L6)\n",
    "print(\"2. Update Element in the List:- \", L6)\n",
    "\n",
    "L6[4:5]=[70,80] # We can able to change only in the form of sequence. Not random values\n",
    "\n",
    "print(\"3. Update Element in the List:- \", L6)\n",
    "print()\n",
    "\n",
    "L6[1:4]=[120,130,140]\n",
    "print(\"4. Update Element in the List:- \", L6)\n",
    "\n",
    "L7=[12,13,14,15,16,17,18,19]\n",
    "\n",
    "L7[1:4]=[120,130,140]\n",
    "L7[2:7]=[120,130,140,150]\n",
    "L7[2:7]=[120,130,140,150,160] # Count should be match with range what we gave in the left side.\n",
    "\n",
    "print(\"5. Update Element in the List:- \", L7)"
   ]
  },
  {
   "cell_type": "markdown",
   "id": "a771b983",
   "metadata": {},
   "source": [
    "###### Append a new item to the list"
   ]
  },
  {
   "cell_type": "code",
   "execution_count": 36,
   "id": "229cbb82",
   "metadata": {
    "collapsed": true
   },
   "outputs": [
    {
     "name": "stdout",
     "output_type": "stream",
     "text": [
      "List with new append values :- ['January', 'February', 'March', 'April']\n"
     ]
    }
   ],
   "source": [
    "months = ['January', 'February', 'March']\n",
    "\n",
    "months.append(\"April\") # Append always add the value at the end in the lists and append() takes exactly one argument\n",
    "\n",
    "print(\"List with new append values :-\", months)"
   ]
  },
  {
   "cell_type": "code",
   "execution_count": 37,
   "id": "ad1d972f",
   "metadata": {
    "collapsed": true
   },
   "outputs": [
    {
     "ename": "TypeError",
     "evalue": "list.append() takes exactly one argument (2 given)",
     "output_type": "error",
     "traceback": [
      "\u001b[1;31m---------------------------------------------------------------------------\u001b[0m",
      "\u001b[1;31mTypeError\u001b[0m                                 Traceback (most recent call last)",
      "Cell \u001b[1;32mIn[37], line 1\u001b[0m\n\u001b[1;32m----> 1\u001b[0m \u001b[43mmonths\u001b[49m\u001b[38;5;241;43m.\u001b[39;49m\u001b[43mappend\u001b[49m\u001b[43m(\u001b[49m\u001b[38;5;124;43m\"\u001b[39;49m\u001b[38;5;124;43mMay\u001b[39;49m\u001b[38;5;124;43m\"\u001b[39;49m\u001b[43m,\u001b[49m\u001b[43m \u001b[49m\u001b[38;5;124;43m\"\u001b[39;49m\u001b[38;5;124;43mJune\u001b[39;49m\u001b[38;5;124;43m\"\u001b[39;49m\u001b[43m)\u001b[49m\n\u001b[0;32m      3\u001b[0m \u001b[38;5;28mprint\u001b[39m(\u001b[38;5;124m\"\u001b[39m\u001b[38;5;124mList with new append values :-\u001b[39m\u001b[38;5;124m\"\u001b[39m, months)\n",
      "\u001b[1;31mTypeError\u001b[0m: list.append() takes exactly one argument (2 given)"
     ]
    }
   ],
   "source": [
    "months.append(\"May\", \"June\")\n",
    "\n",
    "print(\"List with new append values :-\", months)"
   ]
  },
  {
   "cell_type": "markdown",
   "id": "3fa19871",
   "metadata": {},
   "source": [
    "###### Extend() method - To add multiple values"
   ]
  },
  {
   "cell_type": "code",
   "execution_count": 38,
   "id": "f9ecfdf0",
   "metadata": {},
   "outputs": [
    {
     "name": "stdout",
     "output_type": "stream",
     "text": [
      "List with new  values :- ['January', 'February', 'March', 'April', 'May']\n"
     ]
    }
   ],
   "source": [
    "months = ['January', 'February', 'March']\n",
    "\n",
    "months.extend([\"April\", \"May\"])\n",
    "\n",
    "print(\"List with new  values :-\",months)"
   ]
  },
  {
   "cell_type": "code",
   "execution_count": 40,
   "id": "1ae956ef",
   "metadata": {
    "collapsed": true
   },
   "outputs": [
    {
     "name": "stdout",
     "output_type": "stream",
     "text": [
      "EXtend() - Adding multiple values:- [1, 2, 3, 4, 5]\n"
     ]
    }
   ],
   "source": [
    "x = [1, 2, 3]\n",
    "\n",
    "x.extend([4, 5])\n",
    "\n",
    "print(\"EXtend() - Adding multiple values:-\",x)"
   ]
  },
  {
   "cell_type": "markdown",
   "id": "16c8c672",
   "metadata": {},
   "source": [
    "###### Insert() Method - To insert a value at specified location into the list."
   ]
  },
  {
   "cell_type": "code",
   "execution_count": 39,
   "id": "a0e8a07d",
   "metadata": {},
   "outputs": [
    {
     "name": "stdout",
     "output_type": "stream",
     "text": [
      "List with new values :- ['January', 'April', 'February', 'March']\n"
     ]
    }
   ],
   "source": [
    "months = ['January', 'February', 'March']\n",
    "\n",
    "months.insert(1,'April')\n",
    "\n",
    "print(\"List with new values :-\", months)"
   ]
  },
  {
   "cell_type": "code",
   "execution_count": null,
   "id": "2bae2e6c",
   "metadata": {},
   "outputs": [],
   "source": [
    "# vowel list\n",
    "vowel = ['a', 'e', 'i', 'u']\n",
    "\n",
    "# 'o' is inserted at index 3 (4th position)\n",
    "vowel.insert(3, 'o')"
   ]
  },
  {
   "cell_type": "code",
   "execution_count": 41,
   "id": "06871c60",
   "metadata": {},
   "outputs": [
    {
     "name": "stdout",
     "output_type": "stream",
     "text": [
      "['apple', 'orange', 'banana', 'cherry']\n"
     ]
    }
   ],
   "source": [
    "fruits = ['apple', 'banana', 'cherry']\n",
    "\n",
    "fruits.insert(1, \"orange\")\n",
    "\n",
    "print(fruits)"
   ]
  },
  {
   "cell_type": "code",
   "execution_count": 43,
   "id": "dba63a5c",
   "metadata": {},
   "outputs": [
    {
     "name": "stdout",
     "output_type": "stream",
     "text": [
      "1. List with Letters:-  ['a', 'b', 'c', 'd', 'e', 'f', 'g']\n",
      "\n",
      "2. List with update Elements:-  ['a', 'b', 'C', 'D', 'E', 'f', 'g']\n",
      "\n",
      "3. Removing Elements from Lists:-  ['a', 'b', '', '', '', 'f', 'g']\n",
      "\n",
      "4. Removing Elements from Lists:-  ['a', 'b', 'f', 'g']\n",
      "\n",
      "5. Removing Elements from Lists:-  []\n",
      "\n",
      "6. Removing Elements from Lists:-  []\n",
      "\n",
      "7. Removing Elements from Lists:-  []\n",
      "\n",
      "8. Removing Elements from Lists:-  []\n"
     ]
    }
   ],
   "source": [
    "letters = ['a', 'b', 'c', 'd', 'e', 'f', 'g']\n",
    "\n",
    "print(\"1. List with Letters:- \", letters)\n",
    "print()\n",
    "\n",
    "letters[2:5]=[\"C\",\"D\",\"E\"]\n",
    "print(\"2. List with update Elements:- \",letters)\n",
    "print()\n",
    "\n",
    "letters[2:5]=[\"\",\"\",\"\"]\n",
    "print(\"3. Removing Elements from Lists:- \",letters)\n",
    "print()\n",
    "\n",
    "letters[2:5]=[]\n",
    "print(\"4. Removing Elements from Lists:- \",letters)\n",
    "print()\n",
    "\n",
    "letters[0:]=[]\n",
    "print(\"5. Removing Elements from Lists:- \",letters)\n",
    "print()\n",
    "\n",
    "letters[:4]=[]\n",
    "print(\"6. Removing Elements from Lists:- \",letters)\n",
    "print()\n",
    "\n",
    "letters[:]=[]\n",
    "print(\"7. Removing Elements from Lists:- \",letters)\n",
    "print()\n",
    "\n",
    "letters=[]\n",
    "print(\"8. Removing Elements from Lists:- \",letters)"
   ]
  },
  {
   "cell_type": "markdown",
   "id": "3a640d55",
   "metadata": {},
   "source": [
    "###### List Functions"
   ]
  },
  {
   "cell_type": "code",
   "execution_count": 49,
   "id": "2e4345e7",
   "metadata": {},
   "outputs": [
    {
     "name": "stdout",
     "output_type": "stream",
     "text": [
      "Concatenation value of l3 :- [10, 20, 30, 40, 50, 60, 70, 80, 90, 100]\n"
     ]
    }
   ],
   "source": [
    "# Concatenation\n",
    "\n",
    "l1=[10,20,30,40,50]\n",
    "\n",
    "l2=[60,70,80,90,100]\n",
    "\n",
    "l3=l1+l2\n",
    "\n",
    "print(\"Concatenation value of l3 :-\", l3)"
   ]
  },
  {
   "cell_type": "code",
   "execution_count": 47,
   "id": "9291a630",
   "metadata": {},
   "outputs": [
    {
     "name": "stdout",
     "output_type": "stream",
     "text": [
      "Length of l1 :- 5 \n",
      "\n",
      "Length of l2 :- 5 \n",
      "\n",
      "Length of l3 :- 10 \n",
      "\n",
      "Length of all lists :- 5 , 5 , 10\n"
     ]
    }
   ],
   "source": [
    "# Length of the list\n",
    "\n",
    "l1=[10,20,30,40,50]\n",
    "\n",
    "l2=[60,70,80,90,100]\n",
    "\n",
    "l3=[10, 20, 30, 40, 50, 60, 70, 80, 90, 100]\n",
    "\n",
    "print(\"Length of l1 :-\", len(l1),\"\\n\")\n",
    "\n",
    "print(\"Length of l2 :-\", len(l2), \"\\n\")\n",
    "\n",
    "print(\"Length of l3 :-\", len(l3),\"\\n\")\n",
    "\n",
    "print(\"Length of all lists :-\", len(l1),\",\",len(l2),\",\",len(l3))"
   ]
  },
  {
   "cell_type": "code",
   "execution_count": null,
   "id": "3d3ea1a3",
   "metadata": {},
   "outputs": [],
   "source": [
    "# Repeation\n",
    "\n",
    "l2=[60,70,80,90,100]\n",
    "\n",
    "print(\"Repeation of l2 :-\", l2*3)"
   ]
  },
  {
   "cell_type": "markdown",
   "id": "dad94d29",
   "metadata": {},
   "source": [
    "###### Reverse of the list"
   ]
  },
  {
   "cell_type": "code",
   "execution_count": 50,
   "id": "f59d50e7",
   "metadata": {
    "collapsed": true
   },
   "outputs": [
    {
     "name": "stdout",
     "output_type": "stream",
     "text": [
      "Reversing l2 :-  [100, 90, 80, 70, 60]\n"
     ]
    }
   ],
   "source": [
    "l2=[60,70,80,90,100]\n",
    "\n",
    "l2.reverse()\n",
    "\n",
    "print(\"Reversing l2 :- \", l2)"
   ]
  },
  {
   "cell_type": "markdown",
   "id": "019171a8",
   "metadata": {},
   "source": [
    "###### Sorting the list"
   ]
  },
  {
   "cell_type": "code",
   "execution_count": 58,
   "id": "cfc4f534",
   "metadata": {},
   "outputs": [
    {
     "name": "stdout",
     "output_type": "stream",
     "text": [
      "Sorting the list in ascending order :- [60, 70, 80, 90, 100] \n",
      "\n",
      "Sorting the list in descending order :- [100, 90, 80, 70, 60]\n"
     ]
    }
   ],
   "source": [
    "l2=[60,70,80,90,100]\n",
    "\n",
    "l2.sort() #ascending sort\n",
    "\n",
    "print(\"Sorting the list in ascending order :-\",l2 ,\"\\n\")\n",
    "\n",
    "l2.sort(reverse=True) #Descending sort\n",
    "\n",
    "print(\"Sorting the list in descending order :-\",l2)"
   ]
  },
  {
   "cell_type": "code",
   "execution_count": 60,
   "id": "37cfab12",
   "metadata": {},
   "outputs": [
    {
     "name": "stdout",
     "output_type": "stream",
     "text": [
      "Sorting the list in Ascending Order:  ['London', 'Mumbai', 'Nestle', 'New York', 'Paris'] \n",
      "\n",
      "Sorting the list in Descending Order:  ['Paris', 'New York', 'Nestle', 'Mumbai', 'London']\n"
     ]
    }
   ],
   "source": [
    "cities = ['Mumbai', 'London', 'Paris', 'New York','Nestle']\n",
    "\n",
    "cities.sort()\n",
    "\n",
    "print('Sorting the list in Ascending Order: ', cities,\"\\n\")\n",
    "\n",
    "cities.sort(reverse=True)\n",
    "\n",
    "print('Sorting the list in Descending Order: ', cities)"
   ]
  },
  {
   "cell_type": "code",
   "execution_count": 62,
   "id": "6d56a165",
   "metadata": {},
   "outputs": [
    {
     "name": "stdout",
     "output_type": "stream",
     "text": [
      "Sorting the list in Ascending Order with the length:  ['Paris', 'Mumbai', 'London', 'Nestle', 'New York'] \n",
      "\n",
      "Sorting the list in Descending Order with the length:  ['New York', 'Mumbai', 'London', 'Nestle', 'Paris']\n"
     ]
    }
   ],
   "source": [
    "cities = ['Mumbai', 'London', 'Paris', 'New York', \"Nestle\"]\n",
    "\n",
    "cities.sort(key=len)\n",
    "\n",
    "print('Sorting the list in Ascending Order with the length: ', cities,\"\\n\")\n",
    "\n",
    "cities.sort(key=len, reverse=True)\n",
    "\n",
    "print('Sorting the list in Descending Order with the length: ', cities)"
   ]
  },
  {
   "cell_type": "markdown",
   "id": "be71c7d7",
   "metadata": {},
   "source": [
    "###### Nested lists"
   ]
  },
  {
   "cell_type": "code",
   "execution_count": 65,
   "id": "08a803d4",
   "metadata": {},
   "outputs": [
    {
     "name": "stdout",
     "output_type": "stream",
     "text": [
      "New List from two other lists:- [['a', 'b', 'c'], [1, 2, 3]] \n",
      "\n",
      "Indexing new list:- ['a', 'b', 'c'] \n",
      "\n",
      "Indexing new list:- b \n",
      "\n",
      "Indexing new list:- 3 \n",
      "\n",
      "Indexing new list:- c 2\n"
     ]
    }
   ],
   "source": [
    "# Nested Lists:- create lists containing other lists\n",
    "\n",
    "a = ['a', 'b', 'c']\n",
    "\n",
    "n = [1, 2, 3]\n",
    "\n",
    "x = [a, n] \n",
    "\n",
    "print(\"New List from two other lists:-\",x,\"\\n\")\n",
    "\n",
    "print(\"Indexing new list:-\",x[0],\"\\n\")\n",
    "\n",
    "print(\"Indexing new list:-\",x[0][1],\"\\n\")\n",
    "\n",
    "print(\"Indexing new list:-\",x[1][2],\"\\n\")\n",
    "\n",
    "print(\"Indexing new list:-\",x[0][2],x[1][1])"
   ]
  },
  {
   "cell_type": "code",
   "execution_count": null,
   "id": "1098d396",
   "metadata": {},
   "outputs": [],
   "source": []
  }
 ],
 "metadata": {
  "kernelspec": {
   "display_name": "Python 3 (ipykernel)",
   "language": "python",
   "name": "python3"
  },
  "language_info": {
   "codemirror_mode": {
    "name": "ipython",
    "version": 3
   },
   "file_extension": ".py",
   "mimetype": "text/x-python",
   "name": "python",
   "nbconvert_exporter": "python",
   "pygments_lexer": "ipython3",
   "version": "3.11.2"
  }
 },
 "nbformat": 4,
 "nbformat_minor": 5
}
